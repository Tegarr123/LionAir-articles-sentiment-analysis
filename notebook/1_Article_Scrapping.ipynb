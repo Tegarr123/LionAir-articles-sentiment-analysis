{
 "cells": [
  {
   "cell_type": "code",
   "execution_count": 1,
   "id": "8314fbdc",
   "metadata": {},
   "outputs": [],
   "source": [
    "from bs4 import BeautifulSoup\n",
    "import requests\n",
    "import pandas as pd"
   ]
  },
  {
   "cell_type": "markdown",
   "id": "7f2c1b4c",
   "metadata": {},
   "source": [
    "### Populate Media"
   ]
  },
  {
   "cell_type": "code",
   "execution_count": 9,
   "id": "379ee3d7",
   "metadata": {},
   "outputs": [
    {
     "data": {
      "text/html": [
       "<div>\n",
       "<style scoped>\n",
       "    .dataframe tbody tr th:only-of-type {\n",
       "        vertical-align: middle;\n",
       "    }\n",
       "\n",
       "    .dataframe tbody tr th {\n",
       "        vertical-align: top;\n",
       "    }\n",
       "\n",
       "    .dataframe thead th {\n",
       "        text-align: right;\n",
       "    }\n",
       "</style>\n",
       "<table border=\"1\" class=\"dataframe\">\n",
       "  <thead>\n",
       "    <tr style=\"text-align: right;\">\n",
       "      <th></th>\n",
       "      <th>Anggota</th>\n",
       "      <th>Link</th>\n",
       "      <th>Kategori</th>\n",
       "      <th>Unnamed: 3</th>\n",
       "      <th>Unnamed: 4</th>\n",
       "    </tr>\n",
       "  </thead>\n",
       "  <tbody>\n",
       "    <tr>\n",
       "      <th>0</th>\n",
       "      <td>Ghulam</td>\n",
       "      <td>https://industri.kontan.co.id/news/pemerintah-...</td>\n",
       "      <td>Finance</td>\n",
       "      <td>NaN</td>\n",
       "      <td>NaN</td>\n",
       "    </tr>\n",
       "    <tr>\n",
       "      <th>1</th>\n",
       "      <td>NaN</td>\n",
       "      <td>https://news.okezone.com/read/2023/10/29/337/2...</td>\n",
       "      <td>Incident</td>\n",
       "      <td>NaN</td>\n",
       "      <td>NaN</td>\n",
       "    </tr>\n",
       "    <tr>\n",
       "      <th>2</th>\n",
       "      <td>NaN</td>\n",
       "      <td>https://www.cnnindonesia.com/ekonomi/202306081...</td>\n",
       "      <td>Incident</td>\n",
       "      <td>NaN</td>\n",
       "      <td>NaN</td>\n",
       "    </tr>\n",
       "    <tr>\n",
       "      <th>3</th>\n",
       "      <td>NaN</td>\n",
       "      <td>https://www.antaranews.com/video/3366141/ini-d...</td>\n",
       "      <td>Incident</td>\n",
       "      <td>NaN</td>\n",
       "      <td>NaN</td>\n",
       "    </tr>\n",
       "    <tr>\n",
       "      <th>4</th>\n",
       "      <td>NaN</td>\n",
       "      <td>https://haji.kemenag.go.id/v5/detail/tingkatka...</td>\n",
       "      <td>Operational</td>\n",
       "      <td>NaN</td>\n",
       "      <td>NaN</td>\n",
       "    </tr>\n",
       "  </tbody>\n",
       "</table>\n",
       "</div>"
      ],
      "text/plain": [
       "  Anggota                                               Link     Kategori  \\\n",
       "0  Ghulam  https://industri.kontan.co.id/news/pemerintah-...      Finance   \n",
       "1     NaN  https://news.okezone.com/read/2023/10/29/337/2...     Incident   \n",
       "2     NaN  https://www.cnnindonesia.com/ekonomi/202306081...     Incident   \n",
       "3     NaN  https://www.antaranews.com/video/3366141/ini-d...     Incident   \n",
       "4     NaN  https://haji.kemenag.go.id/v5/detail/tingkatka...  Operational   \n",
       "\n",
       "  Unnamed: 3 Unnamed: 4  \n",
       "0        NaN        NaN  \n",
       "1        NaN        NaN  \n",
       "2        NaN        NaN  \n",
       "3        NaN        NaN  \n",
       "4        NaN        NaN  "
      ]
     },
     "execution_count": 9,
     "metadata": {},
     "output_type": "execute_result"
    }
   ],
   "source": [
    "get_links = pd.read_csv(\"https://docs.google.com/spreadsheets/d/1nE_v4AFkLM76TdWcAbU1HRWgQ-gGKYa9ZMBbm7MM0V0/export?gid=0&format=csv\")\n",
    "get_links.head()"
   ]
  },
  {
   "cell_type": "code",
   "execution_count": 10,
   "id": "cadb4851",
   "metadata": {},
   "outputs": [
    {
     "data": {
      "text/plain": [
       "75    https://www.cnbcindonesia.com/news/20190611084...\n",
       "Name: Link, dtype: object"
      ]
     },
     "execution_count": 10,
     "metadata": {},
     "output_type": "execute_result"
    }
   ],
   "source": [
    "get_links[get_links['Link'].str.startswith('https://www.cnbcindonesia.com/news/20190611084856-4-77493/cerita-lion-air-yang')]['Link']"
   ]
  },
  {
   "cell_type": "code",
   "execution_count": 3,
   "id": "f9acf655",
   "metadata": {},
   "outputs": [],
   "source": [
    "# Validate https:// prefix \n",
    "if len(get_links[~get_links[\"Link\"].str.startswith(\"https://\")]) > 0:\n",
    "    raise Exception(f\"Found link without https prefix : \\n{get_links[~get_links[\"Link\"].str.startswith(\"https://\")]}\")"
   ]
  },
  {
   "cell_type": "code",
   "execution_count": 4,
   "id": "cb84a098",
   "metadata": {},
   "outputs": [
    {
     "data": {
      "text/plain": [
       "{'20.detik.com',\n",
       " 'asumsi.co',\n",
       " 'banyumas.tribunnews.com',\n",
       " 'bnn.go.id',\n",
       " 'daerah.sindonews.com',\n",
       " 'diskominfo.bandaacehkota.go.id',\n",
       " 'ekbis.sindonews.com',\n",
       " 'ekonomi.bisnis.com',\n",
       " 'era.id',\n",
       " 'fajarpapua.com',\n",
       " 'haji.kemenag.go.id',\n",
       " 'hargo.co.id',\n",
       " 'indoaviation.asia',\n",
       " 'industri.kontan.co.id',\n",
       " 'jatim.antaranews.com',\n",
       " 'jubi.id',\n",
       " 'kaltimkita.com',\n",
       " 'kbr.id',\n",
       " 'koranmakassar.com',\n",
       " 'makassar.antaranews.com',\n",
       " 'megapolitan.kompas.com',\n",
       " 'money.kompas.com',\n",
       " 'nasional.kontan.co.id',\n",
       " 'news.detik.com',\n",
       " 'news.okezone.com',\n",
       " 'papuabarat.tribunnews.com',\n",
       " 'popularitas.com',\n",
       " 'portal.merauke.go.id',\n",
       " 'regional.kompas.com',\n",
       " 'regional.kontan.co.id',\n",
       " 'sorongraya.inews.id',\n",
       " 'sumatra.bisnis.com',\n",
       " 'sumbar.kemenag.go.id',\n",
       " 'sumsel.antaranews.com',\n",
       " 'tangerang.tribunnews.com',\n",
       " 'tirto.id',\n",
       " 'travel.detik.com',\n",
       " 'travel.kompas.com',\n",
       " 'tribratanews.polri.go.id',\n",
       " 'wahananews.co',\n",
       " 'wartakota.tribunnews.com',\n",
       " 'www.antaranews.com',\n",
       " 'www.bbc.com',\n",
       " 'www.bisnis.com',\n",
       " 'www.bloombergtechnoz.com',\n",
       " 'www.cna.id',\n",
       " 'www.cnbcindonesia.com',\n",
       " 'www.cnnindonesia.com',\n",
       " 'www.detik.com',\n",
       " 'www.fraksipkb.com',\n",
       " 'www.hariankepri.com',\n",
       " 'www.inews.id',\n",
       " 'www.infopenerbangan.com',\n",
       " 'www.infotren.id',\n",
       " 'www.inilah.com',\n",
       " 'www.kompas.com',\n",
       " 'www.kompas.id',\n",
       " 'www.liputan6.com',\n",
       " 'www.medcom.id',\n",
       " 'www.merdeka.com',\n",
       " 'www.metrotvnews.com',\n",
       " 'www.rri.co.id',\n",
       " 'www.suara.com',\n",
       " 'www.tanjungpinangkota.go.id',\n",
       " 'www.tempo.co',\n",
       " 'www.tribunnews.com'}"
      ]
     },
     "execution_count": 4,
     "metadata": {},
     "output_type": "execute_result"
    }
   ],
   "source": [
    "# Populate\n",
    "media = set(get_links.Link.apply(lambda x : x.replace(\"https://\", \"\").split(\"/\")[0]))\n",
    "media"
   ]
  },
  {
   "cell_type": "markdown",
   "id": "3d4e8f5c",
   "metadata": {},
   "source": [
    "### Scrape Article Content"
   ]
  },
  {
   "cell_type": "code",
   "execution_count": null,
   "id": "eec18bd7",
   "metadata": {},
   "outputs": [],
   "source": [
    "soup = BeautifulSoup(response.content, 'lxml')"
   ]
  },
  {
   "cell_type": "code",
   "execution_count": 36,
   "id": "dc5fa8a0",
   "metadata": {},
   "outputs": [
    {
     "name": "stdout",
     "output_type": "stream",
     "text": [
      "(1/153) https://kbr.id/articles/indeks/lion-air-kroscek-dugaan-mesin-rusak SUCCESS\n",
      "(2/153) https://www.inews.id/finance/bisnis/begini-kronologi-pesawat-lion-air-jt-507-yang-gagal-terbang SUCCESS\n",
      "(3/153) https://regional.kontan.co.id/news/ada-bunyi-ledakan-lion-air-gagal-terbang SUCCESS\n"
     ]
    }
   ],
   "source": [
    "headers = {\n",
    "    'User-Agent': 'Mozilla/5.0 (Windows NT 10.0; Win64; x64) AppleWebKit/537.36 (KHTML, like Gecko) Chrome/109.0.0.0 Safari/537.36',\n",
    "    'Accept': 'text/html,application/xhtml+xml,application/xml;q=0.9,image/webp,*/*;q=0.8',\n",
    "    'Accept-Language': 'en-US,en;q=0.5',\n",
    "    'Referer': 'https://www.google.com/', # The 'Referer' header tells the server where you came from\n",
    "    'DNT': '1', # Do Not Track\n",
    "    'Connection': 'keep-alive',\n",
    "    'Upgrade-Insecure-Requests': '1'\n",
    "}\n",
    "data = []\n",
    "link_len = len(get_links['Link'])\n",
    "try:\n",
    "    for i, link in enumerate(get_links['Link'][150:], start=1):\n",
    "        response = requests.get(link, headers=headers)\n",
    "        response.raise_for_status() \n",
    "\n",
    "        soup = BeautifulSoup(response.content, 'html.parser')\n",
    "        title_element = soup.find('h1', class_='article-title')\n",
    "        article_title = title_element.get_text(strip=True) if title_element else \"Title not found\"\n",
    "\n",
    "        content_container = soup.find('div', id='article-body')\n",
    "\n",
    "        article_text = \"\"\n",
    "        if content_container:\n",
    "            paragraphs = content_container.find_all('p')\n",
    "            article_text = '\\n'.join([p.get_text(strip=True) for p in paragraphs])\n",
    "        else:\n",
    "            article_text = \"Article content not found.\"\n",
    "        data.append((article_title, article_text))\n",
    "        \n",
    "        print(f\"({i}/{link_len}) {link} SUCCESS\")\n",
    "except requests.exceptions.RequestException as e:\n",
    "    print(e)"
   ]
  },
  {
   "cell_type": "code",
   "execution_count": 63,
   "id": "16b27574",
   "metadata": {},
   "outputs": [
    {
     "data": {
      "text/plain": [
       "<Response [403]>"
      ]
     },
     "execution_count": 63,
     "metadata": {},
     "output_type": "execute_result"
    }
   ],
   "source": [
    "article = \"https://ekbis.sindonews.com/read/1032941/34/insiden-penumpang-lion-air-lempar-handphone-berasap-ini-penjelasan-manajemen-1677409355\"\n",
    "requests.get(article)"
   ]
  },
  {
   "cell_type": "code",
   "execution_count": 64,
   "id": "ac331919",
   "metadata": {},
   "outputs": [
    {
     "data": {
      "text/plain": [
       "'Insiden Penumpang Lion Air Lempar Handphone Berasap, Ini Penjelasan Manajemen'"
      ]
     },
     "execution_count": 64,
     "metadata": {},
     "output_type": "execute_result"
    }
   ],
   "source": [
    "headers = {\n",
    "    'User-Agent': 'Mozilla/5.0 (Windows NT 10.0; Win64; x64) AppleWebKit/537.36 (KHTML, like Gecko) Chrome/109.0.0.0 Safari/537.36',\n",
    "    'Accept': 'text/html,application/xhtml+xml,application/xml;q=0.9,image/webp,*/*;q=0.8',\n",
    "    'Accept-Language': 'en-US,en;q=0.5',\n",
    "    'Referer': 'https://www.google.com/', # The 'Referer' header tells the server where you came from\n",
    "    'DNT': '1', # Do Not Track\n",
    "    'Connection': 'keep-alive',\n",
    "    'Upgrade-Insecure-Requests': '1'\n",
    "}\n",
    "req = requests.get(article, headers=headers)\n",
    "req.raise_for_status()\n",
    "soup = BeautifulSoup(req.content, 'html.parser')\n",
    "article_title = soup.find('title').text if soup.find('title') else \"Title not found\"\n",
    "article_title"
   ]
  },
  {
   "cell_type": "code",
   "execution_count": 65,
   "id": "c97c8776",
   "metadata": {},
   "outputs": [
    {
     "data": {
      "text/plain": [
       "''"
      ]
     },
     "execution_count": 65,
     "metadata": {},
     "output_type": "execute_result"
    }
   ],
   "source": [
    "par = soup.find_all('p')\n",
    "# for p in par:\n",
    "#     print()\n",
    "#     print(p.get_text())\n",
    "# \"\\n\\n\".join(par) \n",
    "\"\\n\".join(list(map(lambda x : x.get_text(), par)))"
   ]
  },
  {
   "cell_type": "code",
   "execution_count": 23,
   "id": "3e989145",
   "metadata": {},
   "outputs": [
    {
     "data": {
      "text/plain": [
       "b'<!DOCTYPE html>\\r\\n<html lang=\"id-ID\">\\r\\n\\r\\n<head>\\r\\n    \\r\\n\\t<title>Terancam 8 Tahun Penjara, Ini Fakta-fakta Penumpang Lion Air Teriak Bom di Pesawat</title>\\r\\n\\t<meta charset=\"utf-8\">\\r\\n\\t<meta name=\"robots\" content=\"index,follow\" />\\r\\n\\t<meta name=\"googlebot\" content=\"index,follow\" />\\r\\n\\t<meta name=\"googlebot-news\" content=\"index,follow\" />\\t\\r\\n\\t<meta name=\"title\" content=\"Terancam 8 Tahun Penjara, Ini Fakta-fakta Penumpang Lion Air Teriak Bom di Pesawat\">\\r\\n\\t<meta name=\"google-site-verification\" content=\"XXtXnqkl_OEcVprI_BjJzK2S-eUY9eh0gWxRmzrUP0w\" />\\r\\n\\t<meta name=\"viewport\" content=\"width=device-width,initial-scale=1,minimum-scale=1,maximum-scale=1,user-scalable=0\">\\r\\n\\t<meta http-equiv=\"X-UA-Compatible\" content=\"IE=edge\" />\\r\\n\\t<meta http-equiv=\"Content-Security-Policy\" content=\"upgrade-insecure-requests\" />\\r\\n\\t<meta http-equiv=\"content-language\" content=\"In-Id\" />\\r\\n\\t<meta http-equiv=\"cache-control\" content=\"max-age=0\" />\\r\\n\\t<meta http-equiv=\"cache-control\" content=\"no-cache\" />\\r\\n\\t<meta http-equiv=\"expires\" content=\"0\" />\\r\\n\\t<meta http-equiv=\"pragma\" content=\"no-cache\" />\\r\\n\\t<meta name=\"referrer\" content=\"no-referrer-when-downgrade\" />\\r\\n\\t<meta name=\"theme-color\" content=\"#064b7e\">\\r\\n\\t<meta name=\"description\" content=\"Maskapai Lion Air kembali menjadi pembicaraan setelah insiden seorang penumpang rute Jakarta-Kualanamu mengamuk dan berteriak adanya bom.\" />\\r\\n\\t<meta name=\"keywords\" content=\"lion air,  penumpang pesawat teriak bom,  viral medsos\" />\\r\\n\\t<meta name=\"language\" content=\"id\"  />\\r\\n\\t<meta name=\"geo.country\" content=\"id\" />\\r\\n\\t<meta name=\"geo.placename\" content=\"Indonesia\" />\\r\\n\\t<meta name=\"author\" content=\"medcom.id developer\" />\\r\\n\\t<meta name=\"copyright\" content=\"medcom.id, All Rights Reserved\" />\\r\\n\\t<link rel=\"dns-prefetch\" href=\"https://cdn.medcom.id/\" />\\r\\n\\t<link rel=\"dns-prefetch\" href=\"https://img.medcom.id/\" />\\r\\n\\t<link rel=\"dns-prefetch\" href=\"https://va.medcom.id/\" />\\r\\n\\t<link rel=\"shortcut icon\" type=\"image/x-icon\" href=\"/favicon.ico\" />\\r\\n\\t<link rel=\"apple-touch-icon-precomposed\" sizes=\"180x180\" href=\"/apple-touch-icon.png\">\\r\\n\\t<link rel=\"apple-touch-icon\" sizes=\"180x180\" href=\"/apple-touch-icon.png\">\\r\\n\\t<link rel=\"alternate\" type=\"application/rss+xml\" title=\"rss\" href=\"https://www.medcom.id/feed\" />\\r\\n\\t<link rel=\"preload\" as=\"image\" href=\"https://cdn.medcom.id/dynamic/content/2025/08/05/1772229/vWZcNlHVJI.jpeg?w=1024\" />\\r\\n\\t<link rel=\"canonical\" href=\"https://www.medcom.id/nasional/peristiwa/dN63Laqb-terancam-8-tahun-penjara-ini-fakta-fakta-penumpang-lion-air-teriak-bom-di-pesawat\" />\\r\\n\\t<meta property=\"dable:item_id\" content=\"dN63Laqb\" />\\r\\n\\t<meta property=\"dable:title\" content=\"Terancam 8 Tahun Penjara, Ini Fakta-fakta Penumpang Lion Air Teriak Bom di Pesawat\" />\\r\\n\\t<meta property=\"dable:image\" content=\"https://cdn.medcom.id/dynamic/content/2025/08/05/1772229/vWZcNlHVJI.jpeg?w=1024\" />\\r\\n\\t<meta property=\"dable:author\" content=\"Medcom.id\" />\\r\\n\\t<meta property=\"article:section\" content=\"Nasional\" />\\r\\n\\t<meta property=\"article:published_time\" content=\"2025-08-05T19:47:35+0700\" />\\r\\n\\t<meta property=\"og:title\" content=\"Terancam 8 Tahun Penjara, Ini Fakta-fakta Penumpang Lion Air Teriak Bom di Pesawat\" />\\r\\n\\t<meta property=\"og:type\" content=\"article\" />\\r\\n\\t<meta property=\"og:url\" content=\"https://www.medcom.id/nasional/peristiwa/dN63Laqb-terancam-8-tahun-penjara-ini-fakta-fakta-penumpang-lion-air-teriak-bom-di-pesawat\" />\\r\\n\\t<meta property=\"og:image\" content=\"https://cdn.medcom.id/dynamic/content/2025/08/05/1772229/vWZcNlHVJI.jpeg?w=1024\" />\\r\\n\\t<meta property=\"og:image:type\" content=\"image/jpeg\" />\\r\\n\\t<meta property=\"og:image:width\" content=\"1024\" />\\r\\n\\t<meta property=\"og:image:height\" content=\"768\" />\\r\\n\\t<meta property=\"og:updated_time\" content=\"1759153173\" />\\r\\n\\t<meta property=\"og:description\" content=\"Maskapai Lion Air kembali menjadi pembicaraan setelah insiden seorang penumpang rute Jakarta-Kualanamu mengamuk dan berteriak adanya bom.\" />\\r\\n\\t<meta property=\"og:site_name\" content=\"medcom.id\" />\\r\\n\\t<meta property=\"article:author\" content=\"https://www.medcom.id\" />\\r\\n\\t<meta property=\"article:publisher\" content=\"https://www.medcom.id\" />\\r\\n\\t<meta property=\"twitter:site\" content=\"@medcom_id\" />\\r\\n\\t<meta property=\"twitter:card\" content=\"summary_large_image\" />\\r\\n\\t<meta property=\"twitter:creator\" content=\"@medcom_id\" />\\r\\n\\t<meta property=\"twitter:title\" content=\"Terancam 8 Tahun Penjara, Ini Fakta-fakta Penumpang Lion Air Teriak Bom di Pesawat\" />\\r\\n\\t<meta property=\"twitter:description\" content=\"Maskapai Lion Air kembali menjadi pembicaraan setelah insiden seorang penumpang rute Jakarta-Kualanamu mengamuk dan berteriak adanya bom.\" itemprop=\"description\"/>\\r\\n\\t<meta property=\"twitter:image\" content=\"https://cdn.medcom.id/dynamic/content/2025/08/05/1772229/vWZcNlHVJI.jpeg?w=1024\" />\\r\\n\\t<meta name=\"robots\" content=\"max-image-preview:large\">\\r\\n\\t<meta name=\"robots\" content=\"max-snippet:-1, max-image-preview:large\">\\r\\n\\t    \\n\\t<link rel=\"stylesheet\" type=\"text/css\" href=\"https://va.medcom.id/2024/default/css/css_detail_main-3.css?v=260925\" />\\n\\t<link rel=\"stylesheet\" type=\"text/css\" href=\"https://va.medcom.id/2024/default/css/css_detail_fa.css\" />\\n\\t<!--[if gte IE 6]><link rel=\"stylesheet\" type=\"text/css\" href=\"https://va.medcom.id/2024//default/css/mainie.css\" /><![endif]-->\\n\\t\\n\\t<link rel=\"stylesheet\" href=\"https://va.medcom.id/2024/default/css/css_footer.css\" media=\"print\" onload=\"this.onload=null;this.media=\\'all\\' \"/>\\n\\t<link rel=\"stylesheet\" href=\"https://va.medcom.id/2024/default/css/css_menu.css\" media=\"print\" onload=\"this.onload=null;this.media=\\'all\\' \"/>\\n\\t\\r\\n\\r\\n    <script type=\"application/ld+json\">\\n                {\\n                    \"@context\": \"https://schema.org\",\\n                    \"@type\": \"WebPage\",\\n                    \"headline\": \"Terancam 8 Tahun Penjara, Ini Fakta-fakta Penumpang Lion Air Teriak Bom di Pesawat - Medcom.id\",\\n                    \"url\": \"https://www.medcom.id/nasional/peristiwa/dN63Laqb-terancam-8-tahun-penjara-ini-fakta-fakta-penumpang-lion-air-teriak-bom-di-pesawat\",\\n                    \"datePublished\": \"2025-08-05 19:47:35\",\\n                    \"image\": \"https://cdn.medcom.id/dynamic/content/2025/08/05/1772229/vWZcNlHVJI.jpeg?w=1024\",\\n                    \"thumbnailUrl\": \"https://cdn.medcom.id/dynamic/content/2025/08/05/1772229/v2yYLZuwag.jpeg?w=720\"\\n                }\\n            </script>\\n\\n            <script type=\"application/ld+json\">\\n                {\\n                    \"@context\": \"https://schema.org\",\\n                    \"@type\": \"NewsArticle\",\\n                    \"description\": \"Maskapai Lion Air kembali menjadi pembicaraan setelah insiden seorang penumpang rute Jakarta-Kualanamu mengamuk dan berteriak adanya bom.\",\\n                    \"mainEntityOfPage\": {\\n                        \"@type\": \"WebPage\",\\n                        \"@id\": \"https://www.medcom.id/nasional/peristiwa/dN63Laqb-terancam-8-tahun-penjara-ini-fakta-fakta-penumpang-lion-air-teriak-bom-di-pesawat\"\\n                        \\n                    },\\n                    \"headline\": \"Terancam 8 Tahun Penjara, Ini Fakta-fakta Penumpang Lion Air Teriak Bom di Pesawat - Medcom.id\",\\n                    \"image\": {\\n                        \"@type\": \"ImageObject\",\\n                        \"url\": \"https://cdn.medcom.id/dynamic/content/2025/08/05/1772229/vWZcNlHVJI.jpeg?w=1024\",\\n                        \"height\": 525,\\n                        \"width\": 700\\n                    },\\n                    \"datePublished\": \"2025-08-05 19:47:35\",\\n                    \"dateModified\": \"2025-08-05 19:47:40\",\\n                    \"author\": {\\n                        \"@type\": \"Person\",\\n                        \"name\": \"Adri Prima\"\\n                    },   \\n                    \"publisher\": {\\n                        \"@type\": \"Organization\",\\n                        \"name\": \"Medcom ID\",\\n                        \"url\": \"https://www.medcom.id\",\\n                        \"logo\": {\\n                            \"@type\": \"ImageObject\",\\n                            \"url\": \"https://va.medcom.id/2018/default/images/main/logo.png\",\\n                            \"width\": 27,\\n                            \"height\": 192\\n                        }\\n                    }\\n                }\\n                </script>\\n\\n                <script type=\"application/ld+json\">\\n                    {\\n                        \"@context\": \"https://schema.org\",\\n                        \"@type\": \"BreadcrumbList\",\\n                        \"itemListElement\": [\\n                        {\\n                            \"@type\": \"ListItem\",\\n                            \"position\": 1,\\n                            \"name\": \"Home\",\\n                            \"item\": {\\n                                \"@type\": \"Thing\",\\n                                \"@id\": \"https://www.medcom.id\"\\n                            }\\n                        },{\\n                            \"@type\": \"ListItem\",\\n                            \"position\": 2,\\n                            \"name\": \"Nasional\",\\n                            \"item\": {\\n                                \"@type\": \"Thing\",\\n                                \"@id\": \"https://www.medcom.id/nasional\"\\n                            }\\n                        },{\\n                            \"@type\": \"ListItem\",\\n                            \"position\": 3,\\n                            \"name\": \"peristiwa\",\\n                            \"item\": {\\n                                \"@type\": \"Thing\",\\n                                \"@id\": \"https://www.medcom.id/kategori/peristiwa\"\\n                            }\\n                        },{\\n                            \"@type\": \"ListItem\",\\n                            \"position\": 4,\\n                            \"name\": \"Terancam 8 Tahun Penjara, Ini Fakta-fakta Penumpang Lion Air Teriak Bom di Pesawat - Medcom.id\",\\n                            \"item\": {\\n                                \"@type\": \"Thing\",\\n                                \"@id\": \"https://www.medcom.id/nasional/peristiwa/dN63Laqb-terancam-8-tahun-penjara-ini-fakta-fakta-penumpang-lion-air-teriak-bom-di-pesawat\"\\n                            }\\n                        }\\n                        ]\\n                    }\\n                </script>\\n\\n              \\n                <script id=\"topicData\" type=\"application/json\">\\n                        [\\n                                    {    \"topic\": \"Lion Air\",\\n                                \"link\": \"https://www.medcom.id/tag/4061/lion-air\"\\n                                  },{    \"topic\": \"Ancaman bom\",\\n                                \"link\": \"https://www.medcom.id/tag/465/ancaman-bom\"\\n                                  },{    \"topic\": \"Hype & Viral\",\\n                                \"link\": \"https://www.medcom.id/tag/23737/hype-viral\"\\n                                  }        \\n                        ]\\n                </script>\\n                <script type=\"application/javascript\" src=\"//anymind360.com/js/1923/ats.js\"></script>\\r\\n<!-- Google Analytics -->\\r\\n<script>\\r\\nwindow.dataLayer = window.dataLayer || [];\\r\\nwindow.dataLayer.push({\\r\\n  \\'event\\' : \\'page_detail\\',\\r\\n  \\'dimension1\\' : \\'Adri Prima\\',\\r\\n  \\'dimension2\\' : \\'2025-08-05 19:47:35\\',\\r\\n  \\'dimension3\\' : \\'Nasional\\',\\r\\n  \\'dimension4\\' : \\'Peristiwa\\',\\r\\n  \\'dimension5\\' : \\'article\\',\\r\\n  \\'dimension6\\' : \\'1772229\\',\\r\\n  \\'dimension7\\' : \\'Lion Air,ancaman bom,Hype & Viral\\',\\r\\n  \\'dimension8\\' : \\'Adri Prima\\'\\r\\n});\\r\\n</script>\\r\\n\\r\\n<!-- Google Tag Manager -->\\r\\n<script>(function(w,d,s,l,i){w[l]=w[l]||[];w[l].push({\\'gtm.start\\':\\r\\nnew Date().getTime(),event:\\'gtm.js\\'});var f=d.getElementsByTagName(s)[0],\\r\\nj=d.createElement(s),dl=l!=\\'dataLayer\\'?\\'&l=\\'+l:\\'\\';j.async=true;j.src=\\r\\n\\'https://www.googletagmanager.com/gtm.js?id=\\'+i+dl;f.parentNode.insertBefore(j,f);\\r\\n})(window,document,\\'script\\',\\'dataLayer\\',\\'GTM-W72MGSK\\');</script>\\r\\n<!-- End Google Tag Manager -->\\r\\n\\r\\n<script src=\"https://analytics.ahrefs.com/analytics.js\" data-key=\"3CYRJWYvbpGLNvCurvuiGA\" async></script>    <script>\\r\\n        window.loc = \\'https://www.medcom.id/nasional/peristiwa/dN63Laqb-terancam-8-tahun-penjara-ini-fakta-fakta-penumpang-lion-air-teriak-bom-di-pesawat\\';\\r\\n    </script>\\r\\n    \\n\\t<script type=\"text/javascript\" src=\"https://va.medcom.id/2024/default/js/loadlazy.min.js?v180722\"></script>\\n\\t\\n\\t<script async type=\"text/javascript\" src=\"https://va.medcom.id/2024/default/js/loadjs.min.js\"></script>\\n\\t\\r\\n    \\r\\n  <script async src=\"https://securepubads.g.doubleclick.net/tag/js/gpt.js\"></script>\\r\\n  <script>\\r\\n    window.googletag = window.googletag || {cmd: []};\\r\\n    var billboard1, bottomsticky, showcase1, showcase2, showcase_article, showcase3, signature_ads, skinbg;\\r\\n\\r\\n    googletag.cmd.push(function() {\\r\\n      billboard1 = googletag.defineSlot(\\'/21764741526/Medcom_Dekstop/D_Nas_B1\\', [[728, 90], [970, 250], [970, 90]], \\'bannerBillboard1\\').addService(googletag.pubads());\\r\\n      bottomsticky = googletag.defineSlot(\\'/21764741526/Medcom_Dekstop/D_Nas_B2\\', [970, 90], \\'bannerStickyBottom\\').addService(googletag.pubads());\\r\\n      showcase1 = googletag.defineSlot(\\'/21764741526/Medcom_Dekstop/D_Nas_S1\\', [[300, 250], [300, 600]], \\'bannerShowcase1\\').addService(googletag.pubads());\\r\\n      showcase2 = googletag.defineSlot(\\'/21764741526/Medcom_Dekstop/D_Nas_S2\\', [[300, 600], [300, 250]], \\'bannerShowcase2\\').addService(googletag.pubads());\\r\\n      showcase_article = googletag.defineSlot(\\'/21764741526/Medcom_Dekstop/D_Nas_Showcase_Artikel\\', [300, 250], \\'bannerShowcaseArticle\\').addService(googletag.pubads());\\r\\n      showcase3 = googletag.defineSlot(\\'/21764741526/Medcom_Dekstop/D_Nas_S3\\', [[300, 600], [300, 250]], \\'bannerShowcase3\\').addService(googletag.pubads());\\r\\n      signature_ads = googletag.defineSlot(\\'/21764741526/Medcom_Dekstop/D_Nas_Signature\\', [360, 100], \\'bannerSignatureAds\\').addService(googletag.pubads());\\r\\n      skinbg = googletag.defineSlot(\\'/21764741526/Medcom_Dekstop/D_Nas_Skin\\', [1920, 1080], \\'bannerSkinBG\\').addService(googletag.pubads());\\r\\n  \\r\\n      googletag.pubads().enableSingleRequest();\\r\\n      googletag.enableServices();\\r\\n    });\\r\\n  </script>\\r\\n          \\r\\n    <!-- izooto -->\\r\\n    <script>\\r\\n        window._izq = window._izq || [];\\r\\n        window._izq.push([\"init\"]);\\r\\n    </script>\\r\\n    <script src=\"https://cdn.izooto.com/scripts/9ee161b7c485ba27d4bd010ffb6ab18cfe3affac.js\"></script>\\r\\n</head>\\r\\n\\r\\n<body>\\r\\n    <noscript><iframe src=\"https://www.googletagmanager.com/ns.html?id=GTM-W72MGSK\" height=\"0\" width=\"0\" style=\"display:none;visibility:hidden\"></iframe></noscript>        <div class=\"master_wrapper detail theme_2019\">\\r\\n\\r\\n        <!-- SKIN BG -->\\r\\n        <div class=\"skinny\">\\r\\n            <div id=\\'bannerSkinBG\\' style=\\'min-width: 1920px; min-height: 1080px;\\'>\\r\\n                <script>\\r\\n                    googletag.cmd.push(function() {\\r\\n                        googletag.display(skinbg);\\r\\n                    });\\r\\n                </script>\\r\\n            </div>\\r\\n        </div>\\r\\n\\r\\n        <!-- MENU AND NAVIGATION -->\\r\\n        <div class=\"nav\">\\r\\n    <div class=\"wrap\">\\r\\n        <div class=\"nav_row bb-ccc\">\\r\\n            <a class=\"logo\" href=\"https://www.medcom.id\"></a>\\r\\n           \\r\\n        </div>\\r\\n        <div class=\"nav_row\">\\r\\n            \\r\\n            <ul id=\"mnmain\" class=\"main_menu\">\\r\\n                <li>\\r\\n                    <a id=\"lnkHome\"><img src=\"https://va.medcom.id/2018/default/images/icons/home_icon_black.svg\" width=\"16\" height=\"16\"></a>\\r\\n                </li>\\r\\n            </ul>\\r\\n        </div>\\r\\n    </div>\\r\\n    \\r\\n</div>        <!-- MENU AND NAVIGATION END -->\\r\\n\\r\\n        <!-- CONTENT -->\\r\\n        <div class=\"w100fl\">\\r\\n            <div class=\"wrap content\">\\r\\n\\r\\n                <!-- LEADERBOARD -->\\r\\n                <div class=\"leaderboard\">\\r\\n                                    <!-- /21764741526/Medcom_Dekstop/D_Nas_B1 -->\\r\\n                    <div class=\"placeholder\" id=\\'bannerBillboard1\\' style=\\'min-width: 970px; min-height: 90px; margin-top:50px;\\'>\\r\\n                        <script>\\r\\n                            googletag.cmd.push(function() {\\r\\n                                googletag.display(billboard1);\\r\\n                            });\\r\\n                        </script>\\r\\n                    </div>\\r\\n                                    </div>\\r\\n                <!-- LEADERBOARD END -->\\r\\n\\r\\n                <div class=\"mid_content mt40\" style=\"padding-bottom: 300px !important;\">\\r\\n                    <div class=\"lc_col pr_20\">\\r\\n                        <div class=\"article\">\\r\\n\\r\\n                            <!-- DETAIL -->\\r\\n                            <div class=\"breadcrumb\">\\r\\n\\t<ul>\\r\\n\\t\\t<li><a href=\"https://www.medcom.id\">HOME</a></li>\\r\\n\\t\\t<li><a href=\"https://www.medcom.id/ekonomi/\">NEWS</a></li>\\r\\n\\t</ul>\\r\\n</div>\\r\\n                            <div class=\"pic\">\\r\\n  <img width=\"780\" height=\"520\" data-src=\"https://cdn.medcom.id/dynamic/content/2025/08/05/1772229/vWZcNlHVJI.jpeg?w=1024\" src=\"https://cdn.medcom.id/dynamic/blank.png?w=1\" alt=\"Pesawat Lion Air. (MI/Heri Susetyo)\">\\r\\n  <div class=\"caption\">Pesawat Lion Air. (MI/Heri Susetyo)</div>\\r\\n</div>\\r\\n <div id=\"stickshare\" class=\"share\">\\r\\n                    <ul>\\r\\n                        <li><button onclick=\"window.open(\\'https://www.facebook.com/sharer/sharer.php?u=https://www.medcom.id/nasional/peristiwa/dN63Laqb-terancam-8-tahun-penjara-ini-fakta-fakta-penumpang-lion-air-teriak-bom-di-pesawat\\', \\'_blank\\', \\'toolbar=0,status=0,width=626,height=436\\')\" value=\"Share Me on Facebook!\" class=\"ico\"><img src=\"https://va.medcom.id/2024/default/images/main/sh-fb.svg\" alt=\"Facebook\"/></button></li>\\r\\n                        <li><button onclick=\"window.open(\\'https://twitter.com/intent/tweet?text=Terancam+8+Tahun+Penjara%2C+Ini+Fakta-fakta+Penumpang+Lion+Air+Teriak+Bom+di+Pesawat+https%3A%2F%2Fwww.medcom.id%2Fnasional%2Fperistiwa%2FdN63Laqb-terancam-8-tahun-penjara-ini-fakta-fakta-penumpang-lion-air-teriak-bom-di-pesawat%3Fs_twitt+via+%40medcom_id\\', \\'_blank\\', \\'toolbar=0,status=0,width=626,height=436\\')\" value=\"Share Me on X!\" class=\"ico\"><img src=\"https://va.medcom.id/2024/default/images/main/sh-x.svg\" alt=\"X\"/></button></li>\\r\\n                        <li><button onclick=\"window.open(\\'https://wa.me/?text=Terancam+8+Tahun+Penjara%2C+Ini+Fakta-fakta+Penumpang+Lion+Air+Teriak+Bom+di+Pesawat+https://www.medcom.id/nasional/peristiwa/dN63Laqb-terancam-8-tahun-penjara-ini-fakta-fakta-penumpang-lion-air-teriak-bom-di-pesawat\\', \\'_blank\\', \\'toolbar=0,status=0,width=626,height=436\\')\" value=\"Share Me on WhatsApp!\" class=\"ico\"><img src=\"https://va.medcom.id/2024/default/images/main/sh-wa.svg\" alt=\"WhatsApp\"/></button></li>\\r\\n                        <li><button onclick=\"window.open(\\'https://t.me/share/url?url=https://www.medcom.id/nasional/peristiwa/dN63Laqb-terancam-8-tahun-penjara-ini-fakta-fakta-penumpang-lion-air-teriak-bom-di-pesawat\\', \\'_blank\\', \\'toolbar=0,status=0,width=626,height=436\\')\" value=\"Share Me on Telegram!\" class=\"ico\"><img src=\"https://va.medcom.id/2024/default/images/main/sh-tl.svg\" alt=\"Telegram\"/></button></li>\\r\\n                        <li><button onclick=\"copyLink()\" class=\"ico\"><img src=\"https://va.medcom.id/2024/default/images/main/sh-copy.svg\" alt=\"link\"/></button></li>\\r\\n                        <span class=\"tooltiptext\" id=\"copyNotif\" style=\"visibility: hidden;\">URL Berhasil di Salin</span>\\r\\n                        <textarea type=\"text\" id=\"shareLink\" style=\"opacity: .01;\">Terancam 8 Tahun Penjara, Ini Fakta-fakta Penumpang Lion Air Teriak Bom di Pesawat\\n\\nKlik untuk baca:\\nhttps://www.medcom.id/nasional/peristiwa/dN63Laqb-terancam-8-tahun-penjara-ini-fakta-fakta-penumpang-lion-air-teriak-bom-di-pesawat</textarea>\\r\\n                    </ul>\\r\\n                </div>\\r\\n                \\r\\n                <script>\\r\\n                    function copyLink() {\\r\\n                        var notif = document.getElementById(\"copyNotif\");\\r\\n                        var copyText = document.getElementById(\"shareLink\");\\r\\n                        copyText.select();\\r\\n                        document.execCommand(\"copy\");\\r\\n                        if (notif.style.visibility === \"visible\") {\\r\\n                            notif.style.visibility = \"hidden\";\\r\\n                        } else {\\r\\n                            notif.style.visibility = \"visible\";\\r\\n                            setTimeout(function () {\\r\\n                                notif.style.visibility = \"hidden\";\\r\\n                            }, 2000);\\r\\n                        }\\r\\n                    }\\r\\n                </script>\\r\\n                <div class=\"article_ct\" id=\"ct\">\\r\\n\\r\\n  \\r\\n    <h1 id=\"h1\">Terancam 8 Tahun Penjara, Ini Fakta-fakta Penumpang Lion Air Teriak Bom di Pesawat</h1>\\r\\n\\r\\n  <div class=\"info\" id=\"info\">\\r\\n    <div class=\"info_ct\">Adri Prima &bull; 05 Agustus 2025 19:47</div>\\r\\n    <ul class=\"tool_bt\">\\r\\n      <li><button class=\"font_plus\">&nbsp;</button></li>\\r\\n      <li><button class=\"font_min\">&nbsp;</button></li>\\r\\n      </ul>\\r\\n  </div>\\r\\n  \\r\\n  <div id=\"transarticle\" class=\"transtext\" style=\"display:none\">\\r\\n    Jakarta: Maskapai Lion Air kembali menjadi pembicaraan setelah insiden seorang penumpang rute Jakarta-Kualanamu mengamuk dan berteriak adanya bom, Sabtu, 2 Agustus 2025.\\r\\n\\r\\nTingkah penumpang tersebut membuat pesawat harus kembali ke apron dan seluruh penumpang diperiksa ulang. Pria tersebut kini resmi ditetapkan sebagai tersangka.&nbsp;\\r\\n\\r\\nBerikut ini fakta-fakta penumpang Lion Air teriak bom:\\r\\n&nbsp;\\r\\n1. Viral di media sosial\\r\\n\\r\\nCuplikan video yang menunjukkan seorang pria berteriak adanya bom dalam pesawat Lion Air JT-308 rute Jakarta&ndash;Kualanamu viral di media sosial. Teriakan itu dilontarkan sebagai bentuk protes atas keterlambatan penerbangan.\\r\\n&nbsp;\\r\\n2. Pesawat sudah selesai push back\\r\\n\\r\\nCorporate Communications Strategic of Lion Air, Danang Mandala Prihantoro menjelaskan bahwa insiden terjadi saat pesawat jenis Boeing 737-9 registrasi PK-LRH telah selesai melakukan push back dan bersiap menuju taxiway.\\r\\n&nbsp;\\r\\n\\r\\n&nbsp;\\r\\n\\r\\n3. Awak kabin terapkan prosedur keamanan\\r\\n\\r\\nSetelah mendengar teriakan ancaman bom dari penumpang, awak kabin langsung melakukan prosedur keamanan penerbangan berupa Return to Apron (RTA). Pesawat kembali ke apron untuk proses pemeriksaan menyeluruh.\\r\\n&nbsp;\\r\\n4. Penumpang yang berteriak bom langsung diamankan\\r\\n\\r\\nPria berinisial H yang meneriakkan adanya bom diturunkan dari pesawat dan langsung diserahkan ke petugas keamanan bandara, Otoritas Bandara, PPNS, dan pihak kepolisian untuk diperiksa dan diproses secara hukum.\\r\\n&nbsp;\\r\\n5. Seluruh penumpang dan bagasi diperiksa ulang\\r\\n\\r\\nSebagai bagian dari prosedur pengamanan, seluruh penumpang, bagasi, dan barang bawaan diturunkan dan diperiksa ulang oleh otoritas keamanan. Hal ini dilakukan untuk memastikan tidak ada ancaman nyata.\\r\\n&nbsp;\\r\\n6. Penerbangan dilanjutkan dengan pesawat lain\\r\\n\\r\\nLion Air menyiapkan pesawat pengganti, Boeing 737-900ER registrasi PK-LSW, yang kemudian menerbangkan seluruh penumpang ke Kualanamu pada hari yang sama. Penerbangan akhirnya tiba dengan selamat di tujuan.\\r\\n&nbsp;\\r\\n7. Pelaku terancam 8 tahun penjara\\r\\n\\r\\nPria yang berteriak bom kini sudah ditetapkan sebagai tersangka. Pelaku terjerat Pasal 437 UU Nomor 1 Tahun 2009 tentang Penerbangan. Ancaman pidananya mencapai 8 tahun penjara.&nbsp;\\r\\n\\r\\nPihak Lion Air dan otoritas bandara menegaskan bahwa tindakan seperti ini tidak bisa ditoleransi karena mengancam keselamatan publik.  </div>\\r\\n  \\r\\n  <div class=\"text\" itemprop=\"articleBody\" id=\"articleBody\">\\r\\n    Jakarta: Maskapai <a href=\"https://www.medcom.id/tag/4061/lion-air\">Lion Air</a> kembali menjadi pembicaraan setelah insiden seorang penumpang rute Jakarta-Kualanamu mengamuk dan berteriak adanya <a href=\"https://www.medcom.id/tag/23737/hype-viral\">bom</a>, Sabtu, 2 Agustus 2025.<br />&nbsp;<br />\\r\\nTingkah penumpang tersebut membuat pesawat harus kembali ke apron dan seluruh penumpang diperiksa ulang. Pria tersebut kini resmi ditetapkan sebagai tersangka.&nbsp;<br />&nbsp;<br />\\r\\nBerikut ini fakta-fakta penumpang Lion Air teriak bom:<br />\\r\\n&nbsp;\\r\\n<h3>1. Viral di media sosial</h3>\\r\\n<br />\\r\\nCuplikan video yang menunjukkan seorang pria berteriak adanya bom dalam pesawat Lion Air JT-308 rute Jakarta&ndash;Kualanamu viral di media sosial. Teriakan itu dilontarkan sebagai bentuk protes atas keterlambatan penerbangan.<br />\\r\\n&nbsp;\\r\\n<h3>2. Pesawat sudah selesai push back</h3>\\r\\n<br />\\r\\nCorporate Communications Strategic of Lion Air, Danang Mandala Prihantoro menjelaskan bahwa insiden terjadi saat pesawat jenis Boeing 737-9 registrasi PK-LRH telah selesai melakukan push back dan bersiap menuju taxiway.<br />\\r\\n&nbsp;\\r\\n<table>\\r\\n\\t<tbody>\\r\\n\\t\\t<tr>\\r\\n\\t\\t\\t<td>Baca juga:<br />\\r\\n\\t\\t\\t<a href=\"https://www.medcom.id/nasional/peristiwa/xkEDpPpb-pria-di-depok-ditangkap-polisi-buntut-pamer-senpi-ke-warga\">Pria di Depok Ditangkap Polisi Buntut Pamer Senpi ke Warga</a></td>\\r\\n\\t\\t</tr>\\r\\n\\t</tbody>\\r\\n</table>\\r\\n&nbsp;\\r\\n\\r\\n<h3>3. Awak kabin terapkan prosedur keamanan</h3>\\r\\n<br />\\r\\nSetelah mendengar teriakan ancaman bom dari penumpang, awak kabin langsung melakukan prosedur keamanan penerbangan berupa Return to Apron (RTA). Pesawat kembali ke apron untuk proses pemeriksaan menyeluruh.<br />\\r\\n&nbsp;\\r\\n<h3>4. Penumpang yang berteriak bom langsung diamankan</h3>\\r\\n<br />\\r\\nPria berinisial H yang meneriakkan adanya bom diturunkan dari pesawat dan langsung diserahkan ke petugas keamanan bandara, Otoritas Bandara, PPNS, dan pihak kepolisian untuk diperiksa dan diproses secara hukum.<br />\\r\\n&nbsp;\\r\\n<h3>5. Seluruh penumpang dan bagasi diperiksa ulang</h3>\\r\\n<br />\\r\\nSebagai bagian dari prosedur pengamanan, seluruh penumpang, bagasi, dan barang bawaan diturunkan dan diperiksa ulang oleh otoritas keamanan. Hal ini dilakukan untuk memastikan tidak ada ancaman nyata.<br />\\r\\n&nbsp;\\r\\n<h3>6. Penerbangan dilanjutkan dengan pesawat lain</h3>\\r\\n<br />\\r\\nLion Air menyiapkan pesawat pengganti, Boeing 737-900ER registrasi PK-LSW, yang kemudian menerbangkan seluruh penumpang ke Kualanamu pada hari yang sama. Penerbangan akhirnya tiba dengan selamat di tujuan.<br />\\r\\n&nbsp;\\r\\n<h3>7. Pelaku terancam 8 tahun penjara</h3>\\r\\n<br />\\r\\nPria yang berteriak bom kini sudah ditetapkan sebagai tersangka. Pelaku terjerat Pasal 437 UU Nomor 1 Tahun 2009 tentang Penerbangan. Ancaman pidananya mencapai 8 tahun penjara.&nbsp;<br /><br />\\r\\nPihak Lion Air dan otoritas bandara menegaskan bahwa tindakan seperti ini tidak bisa ditoleransi karena mengancam keselamatan publik.<br />&nbsp;<br /><strong style=\"display:flex; gap: 5px;\">Cek Berita dan Artikel yang lain di \\r\\n            <a href=\"https://news.google.com/publications/CAAqBwgKMO3SgQswosT9Ag?ceid=ID:id&amp;oc=3&amp;hl=id&amp;gl=ID\\\\\" class=\"container-gnews\">\\r\\n                <div class=\"gnews-img\">\\r\\n                    <img src=\"https://va.medcom.id/2024//default/images/gnews.svg\" width=\"18\" height=\"18\">\\r\\n                </div>\\r\\n                <div class=\"gnews-title\">\\r\\n                    Google News\\r\\n                </div>\\r\\n            </a></strong><br><strong><i>Viral!</i> 18 Kampus ternama memberikan beasiswa full sampai lulus untuk S1 dan S2 di Beasiswa OSC. Info lebih lengkap klik : <a href=\"https://osc.medcom.id\">osc.medcom.id</a></strong><div id=\"author\">(PRI)</div>  </div>\\r\\n\\r\\n    <br>\\r\\n  \\r\\n  <div class=\"foot_article\" id=\"topic\" style=\"display:none ;margin-bottom:30px;\">\\r\\n  \\r\\n  </div>\\r\\n\\r\\n  <div class=\"bottom_article\">\\r\\n    <div class=\"bottom_category\">\\r\\n      <ul>\\r\\n        <li><a href=\"https://www.medcom.id/nasional/peristiwa\" title=\"peristiwa\">Peristiwa</a></li>      </ul>\\r\\n    </div>\\r\\n    <br />\\r\\n    <div class=\"placeholder\" id=\\'bannerSignatureAds\\' style=\\'height:100px; width:360px;\\'>\\r\\n      <script>\\r\\n        googletag.cmd.push(function() {\\r\\n          googletag.display(signature_ads);\\r\\n        });\\r\\n      </script>\\r\\n    </div>\\r\\n    \\r\\n\\r\\n     <!-- Advertnative -->\\r\\n  <div style=\"float:left;padding: 0 0 40px 0;\" id=\"406c841592c4176af37a6fc376bef0b6\"></div>\\r\\n\\r\\n  <!-- mgid -->\\r\\n  <div style=\"float:left;padding: 0 0 40px 0;\" id=\"M633685ScriptRootC1526898\"></div>\\r\\n\\r\\n  </div>\\r\\n</div>                            <div id=\"commentBox\" class=\"box_14 comment_section\">\\r\\n                                                            </div>\\r\\n                            <!-- DETAIL END-->\\r\\n\\r\\n                        </div>\\r\\n                        <!-- TERKAIT -->\\r\\n                            <div class=\"w100fl list_1\">\\r\\n        <div class=\"ti_1 white\">\\r\\n            <span>TERKAIT</span>\\r\\n        </div>\\r\\n        <div id=\"rc\" class=\"box_7\">\\r\\n                    </div>\\r\\n    </div>\\r\\n                        <!-- TERKAIT END -->\\r\\n                        <!-- Mulai Dable bottom Widget / Untuk pertanyaan hubungi http://dable.io -->\\r\\n                        <div id=\"dablewidget_G7Z5wGoW\" class=\"w100fl\" data-widget_id=\"G7Z5wGoW\">\\r\\n                        </div>\\r\\n                        <!-- Akhiri Dable bottom Widget / Untuk pertanyaan hubungi http://dable.io -->\\r\\n                        <!-- BERITA LAINNYA -->\\r\\n                        \\t\\t\\t<div class=\"w100fl\">\\r\\n\\t\\t\\t\\t<div class=\"ti_1 white\">\\r\\n\\t\\t\\t\\t\\t<h3>BERITA LAINNYA</h3>\\r\\n\\t\\t\\t\\t</div>\\r\\n\\r\\n\\t\\t\\t\\t<span id=\"oc\"></span>\\r\\n\\t\\t\\t\\t\\r\\n\\t\\t\\t</div>                        <!-- BERITA LAINNYA -->\\r\\n\\r\\n                    </div>\\r\\n                    <div class=\"r_col\">\\r\\n                        <!-- SOCIAL MEDIA -->\\r\\n                        <div class=\"box_9\">\\r\\n\\t<!-- <img height=\"173\" width=\"410\" src=\"https://cdn.medcom.id/dynamic/blank.png?w=1\" data-src=\"https://va.medcom.id/2018/default/images/social.jpg\" alt=\"social\"> -->\\r\\n\\t<div class=\"text\">\\r\\n\\t\\t<div class=\"ti_2\">\\r\\n\\t\\t\\t<span>FOLLOW US</span>\\r\\n\\t\\t</div>\\r\\n\\t\\t<p>Ikuti media sosial medcom.id dan dapatkan berbagai keuntungan</p>\\r\\n\\t\\t<ul>\\r\\n\\t\\t\\t<li>\\r\\n\\t\\t\\t\\t<a href=\"https://www.facebook.com/medcomid\" rel=\"nofollow\" target=\"_blank\">\\r\\n\\t\\t\\t\\t\\t<img src=\"https://va.medcom.id/2024/default/images/main/fu-fb.svg\" alt=\"Facebook\"/> \\r\\n\\t\\t\\t\\t</a>\\r\\n\\t\\t\\t</li>\\r\\n\\t\\t\\t<li>\\r\\n\\t\\t\\t\\t<a href=\"https://twitter.com/medcom_id\" rel=\"nofollow\" target=\"_blank\">\\r\\n\\t\\t\\t\\t\\t<img src=\"https://va.medcom.id/2024/default/images/main/fu-x.svg\" alt=\"Twitter\"/> \\r\\n\\t\\t\\t\\t</a>\\r\\n\\t\\t\\t</li>\\r\\n\\t\\t\\t<li>\\r\\n\\t\\t\\t\\t<a href=\"https://www.instagram.com/medcomid/\" rel=\"nofollow\" target=\"_blank\">\\r\\n\\t\\t\\t\\t\\t<img src=\"https://va.medcom.id/2024/default/images/main/fu-ig.svg\" alt=\"Instagram\"/> \\r\\n\\t\\t\\t\\t</a>\\r\\n\\t\\t\\t</li>\\r\\n\\t\\t\\t<li>\\r\\n\\t\\t\\t\\t<a href=\"https://www.threads.net/@medcomid\" rel=\"nofollow\" target=\"_blank\">\\r\\n\\t\\t\\t\\t\\t<img src=\"https://va.medcom.id/2024/default/images/main/fu-threads.svg\" alt=\"Threads\"/>\\r\\n\\t\\t\\t\\t</a>\\r\\n\\t\\t\\t</li>\\r\\n\\t\\t\\t<li>\\r\\n\\t\\t\\t\\t<a href=\"https://www.youtube.com/@medcomid\" rel=\"nofollow\" target=\"_blank\">\\r\\n\\t\\t\\t\\t\\t<img src=\"https://va.medcom.id/2024/default/images/main/fu-yt.svg\" alt=\"Youtube\"/>\\r\\n\\t\\t\\t\\t</a>\\r\\n\\t\\t\\t</li>\\r\\n\\t\\t</ul>\\r\\n\\t</div>\\r\\n</div>                        <!-- SOCIAL MEDIA END -->\\r\\n\\r\\n                        <div class=\"banner showcase mt10 bannersticky\">\\r\\n                            <!-- /21764741526/Medcom_Dekstop/D_Nas_S1 -->\\r\\n                            <div class=\"placeholder\" id=\\'bannerShowcase1\\' style=\\'min-width: 300px; min-height: 250px;\\'>\\r\\n                                <script>\\r\\n                                    googletag.cmd.push(function() {\\r\\n                                        googletag.display(showcase1);\\r\\n                                    });\\r\\n                                </script>\\r\\n                            </div>\\r\\n                        </div>\\r\\n\\r\\n                                                    <div class=\"w100fl list_2\" id=\"list_2\">\\r\\n                                <div class=\"ti_1 white\">\\r\\n                                    <h4>HOT ISSUE</h4>\\r\\n                                </div>\\r\\n                                <ul class=\"box_8 numbered\">\\r\\n                                \\r\\n                                    <li>\\r\\n                                        <div class=\"pic\">\\r\\n\\t\\t\\t\\t\\t\\t\\t\\t\\t\\t\\t<a href=\"https://www.medcom.id/ekonomi/bisnis/MkMOpzwN-padel-kena-pajak-10-persen-olahraga-jadi-mewah-ini-daftar-arena-yang-ikut-terdampak\">\\r\\n\\t\\t\\t\\t\\t\\t\\t\\t\\t\\t\\t\\t<img width=\"100\" height=\"100\" src=\"https://cdn.medcom.id/dynamic/blank.png?w=1\" data-src=\"https://cdn.medcom.id/dynamic/content/2025/07/05/1767476/qlSuURGtF3.jpg?w=720\" alt=\"Padel Kena Pajak 10 Persen! Olahraga Jadi Mewah, Ini Daftar Arena yang Ikut Terdampak\">\\r\\n\\t\\t\\t\\t\\t\\t\\t\\t\\t\\t\\t</a>\\r\\n\\t\\t\\t\\t\\t\\t\\t\\t\\t\\t</div>\\r\\n                                        <div class=\"text\">\\r\\n                                            <h5><a href=\"https://www.medcom.id/ekonomi/bisnis/MkMOpzwN-padel-kena-pajak-10-persen-olahraga-jadi-mewah-ini-daftar-arena-yang-ikut-terdampak\">Padel Kena Pajak 10 Persen! Olahraga Jadi Mewah, Ini Daftar Arena yang Ikut Terdampak</a></h5>\\r\\n                                        </div>\\r\\n                                    </li>\\r\\n                                    \\r\\n                                    <li>\\r\\n                                        <div class=\"pic\">\\r\\n\\t\\t\\t\\t\\t\\t\\t\\t\\t\\t\\t<a href=\"https://www.medcom.id/ekonomi/bisnis/gNQZpQab-mau-pensiun-dini-begini-cara-dan-syarat-lengkap-untuk-karyawan-swasta-dan-pns\">\\r\\n\\t\\t\\t\\t\\t\\t\\t\\t\\t\\t\\t\\t<img width=\"100\" height=\"100\" src=\"https://cdn.medcom.id/dynamic/blank.png?w=1\" data-src=\"https://cdn.medcom.id/dynamic/content/2025/07/05/1767458/CDGs0zSLNi.jpg?w=720\" alt=\"Mau Pensiun Dini? Begini Cara dan Syarat Lengkap untuk Karyawan Swasta dan PNS\">\\r\\n\\t\\t\\t\\t\\t\\t\\t\\t\\t\\t\\t</a>\\r\\n\\t\\t\\t\\t\\t\\t\\t\\t\\t\\t</div>\\r\\n                                        <div class=\"text\">\\r\\n                                            <h5><a href=\"https://www.medcom.id/ekonomi/bisnis/gNQZpQab-mau-pensiun-dini-begini-cara-dan-syarat-lengkap-untuk-karyawan-swasta-dan-pns\">Mau Pensiun Dini? Begini Cara dan Syarat Lengkap untuk Karyawan Swasta dan PNS</a></h5>\\r\\n                                        </div>\\r\\n                                    </li>\\r\\n                                    \\r\\n                                    <li>\\r\\n                                        <div class=\"pic\">\\r\\n\\t\\t\\t\\t\\t\\t\\t\\t\\t\\t\\t<a href=\"https://www.medcom.id/ekonomi/global/0k8BnRdN-daftar-5-miliarder-wanita-terkaya-dunia-2025\">\\r\\n\\t\\t\\t\\t\\t\\t\\t\\t\\t\\t\\t\\t<img width=\"100\" height=\"100\" src=\"https://cdn.medcom.id/dynamic/blank.png?w=1\" data-src=\"https://cdn.medcom.id/dynamic/content/2025/06/27/1766269/xej8v4JLPU.jpg?w=720\" alt=\"Daftar 5 Miliarder Wanita Terkaya Dunia 2025\">\\r\\n\\t\\t\\t\\t\\t\\t\\t\\t\\t\\t\\t</a>\\r\\n\\t\\t\\t\\t\\t\\t\\t\\t\\t\\t</div>\\r\\n                                        <div class=\"text\">\\r\\n                                            <h5><a href=\"https://www.medcom.id/ekonomi/global/0k8BnRdN-daftar-5-miliarder-wanita-terkaya-dunia-2025\">Daftar 5 Miliarder Wanita Terkaya Dunia 2025</a></h5>\\r\\n                                        </div>\\r\\n                                    </li>\\r\\n                                    \\r\\n                                    <li>\\r\\n                                        <div class=\"pic\">\\r\\n\\t\\t\\t\\t\\t\\t\\t\\t\\t\\t\\t<a href=\"https://www.medcom.id/hiburan/indis/ob3zjmmN-jadwal-konser-musik-juli-2025-ada-g-dragon-prambanan-jazz-hingga-prj\">\\r\\n\\t\\t\\t\\t\\t\\t\\t\\t\\t\\t\\t\\t<img width=\"100\" height=\"100\" src=\"https://cdn.medcom.id/dynamic/blank.png?w=1\" data-src=\"https://cdn.medcom.id/dynamic/content/2025/07/01/1766757/90jsJmZHUV.jpg?w=720\" alt=\"Jadwal Konser Musik Juli 2025: Ada G-Dragon, Prambanan Jazz, hingga PRJ!\">\\r\\n\\t\\t\\t\\t\\t\\t\\t\\t\\t\\t\\t</a>\\r\\n\\t\\t\\t\\t\\t\\t\\t\\t\\t\\t</div>\\r\\n                                        <div class=\"text\">\\r\\n                                            <h5><a href=\"https://www.medcom.id/hiburan/indis/ob3zjmmN-jadwal-konser-musik-juli-2025-ada-g-dragon-prambanan-jazz-hingga-prj\">Jadwal Konser Musik Juli 2025: Ada G-Dragon, Prambanan Jazz, hingga PRJ!</a></h5>\\r\\n                                        </div>\\r\\n                                    </li>\\r\\n                                    \\r\\n                                    <li>\\r\\n                                        <div class=\"pic\">\\r\\n\\t\\t\\t\\t\\t\\t\\t\\t\\t\\t\\t<a href=\"https://www.medcom.id/ekonomi/keuangan/4baOpe0K-inspirasi-menabung-dari-berbagai-negara-dari-amplop-amerika-hingga-arisan-afrika\">\\r\\n\\t\\t\\t\\t\\t\\t\\t\\t\\t\\t\\t\\t<img width=\"100\" height=\"100\" src=\"https://cdn.medcom.id/dynamic/blank.png?w=1\" data-src=\"https://cdn.medcom.id/dynamic/content/2025/07/02/1766867/XJoZQ4Sk0V.jpg?w=720\" alt=\"Inspirasi Menabung dari Berbagai Negara, Dari Amplop Amerika hingga Arisan Afrika\">\\r\\n\\t\\t\\t\\t\\t\\t\\t\\t\\t\\t\\t</a>\\r\\n\\t\\t\\t\\t\\t\\t\\t\\t\\t\\t</div>\\r\\n                                        <div class=\"text\">\\r\\n                                            <h5><a href=\"https://www.medcom.id/ekonomi/keuangan/4baOpe0K-inspirasi-menabung-dari-berbagai-negara-dari-amplop-amerika-hingga-arisan-afrika\">Inspirasi Menabung dari Berbagai Negara, Dari Amplop Amerika hingga Arisan Afrika</a></h5>\\r\\n                                        </div>\\r\\n                                    </li>\\r\\n                                                                    </ul>\\r\\n\\r\\n                                <!-- SHOWCASE ADS -->\\r\\n                                <div class=\"banner showcase\" style=\"min-height:250px\">\\r\\n                                    <!-- /21764741526/Medcom_Dekstop/D_Nas_S3 -->\\r\\n                                    <div id=\\'Ads_showcase3\\' style=\\'min-width: 300px; min-height: 250px;\\'>\\r\\n                                        <script>\\r\\n                                            googletag.cmd.push(function() {\\r\\n                                                googletag.display(showcase3);\\r\\n                                            });\\r\\n                                        </script>\\r\\n                                    </div>\\r\\n                                </div>\\r\\n                                \\r\\n                            </div>\\r\\n                        \\r\\n                        <div class=\"banner showcase mt10 bannersticky\">\\r\\n                            <!-- /21764741526/Medcom_Dekstop/D_Nas_S2 -->\\r\\n                            <div class=\"placeholder\" id=\\'bannerShowcase2\\' style=\\'min-width: 300px; min-height: 250px;\\'>\\r\\n                                <script>\\r\\n                                    googletag.cmd.push(function() {\\r\\n                                        googletag.display(showcase2);\\r\\n                                    });\\r\\n                                </script>\\r\\n                            </div>\\r\\n                        </div>\\r\\n\\r\\n\\r\\n                        <div class=\"banner showcase mt10 bannersticky\">\\r\\n                            <!-- /21764741526/Medcom_Dekstop/D_Nas_S3 -->\\r\\n                            <div class=\"placeholder\" id=\\'bannerShowcase3\\' style=\\'min-width: 300px; min-height: 250px;\\'>\\r\\n                                <script>\\r\\n                                    googletag.cmd.push(function() {\\r\\n                                        googletag.display(showcase3);\\r\\n                                    });\\r\\n                                </script>\\r\\n                            </div>\\r\\n                                                    </div>\\r\\n\\r\\n                    </div>\\r\\n                </div>\\r\\n\\r\\n            </div>\\r\\n        </div>\\r\\n        <!-- CONTENT END -->\\r\\n\\r\\n        <!-- FOOTER -->\\r\\n        \\t\\t\\t<div class=\"footer\" id=\"footer\">\\r\\n\\t\\t\\t    <div class=\"wrap pr\">\\r\\n\\t\\t\\t        <a class=\"foot_logo\" href=\"https://www.medcom.id\">\\r\\n\\t\\t\\t            <img src=\"https://va.medcom.id/2024/default/images/theme_2019/logo.png\" alt=\"logo footer\">\\r\\n\\t\\t\\t        </a>\\r\\n\\t\\t\\t        <div class=\"foot_nav\">\\r\\n\\t\\t\\t            <ul>\\r\\n\\t\\t\\t                <li><a href=\"https://www.medcom.id/tentangkami\">Tentang Kami</a></li>\\r\\n\\t\\t\\t                <li><a href=\"https://www.medcom.id/kontak\">Kontak</a></li>\\r\\n\\t\\t\\t                <li><a href=\"https://www.medcom.id/redaksi\">Redaksi</a></li>\\r\\n\\t\\t\\t                <li><a href=\"https://www.medcom.id/iklan\">Iklan</a></li>\\r\\n\\t\\t\\t                <li><a href=\"https://www.medcom.id/mediasiber\">Pedoman Media Siber</a></li>\\r\\n\\t\\t\\t                <li><a href=\"https://www.medcom.id/metodologi-cekfakta\">Metodologi Cek Fakta</a></li>\\r\\n\\t\\t\\t                <li><a href=\"https://www.medcom.id/kode-etik\">Kode Etik</a></li>\\r\\n\\t\\t\\t                <li><a href=\"https://www.medcom.id/privacy-policy\">Privacy Policy</a></li>\\r\\n\\t\\t\\t                <li><a href=\"https://career.metrotvnews.com/\">Karir</a></li>\\r\\n\\t\\t\\t            </ul>\\r\\n\\t\\t\\t        </div>\\r\\n\\r\\n\\t\\t\\t        <div class=\"w100fl foot_group\">\\r\\n\\t\\t\\t            <a href=\"https://www.metrotvnews.com\">\\r\\n\\t\\t\\t                <img src=\"https://va.medcom.id/2024/default/images/mtvn_logo.svg\" alt=\"metrotvnews\" width=\"200\" height=\"50\">\\r\\n\\t\\t\\t            </a>\\r\\n\\t\\t\\t        </div>\\r\\n\\r\\n\\t\\t\\t        <div class=\"w100fl\">\\r\\n\\t\\t\\t            \\t\\t\\t            <div class=\"copyright\">Copyright &COPY; 2017 - 2025 Medcom.id, All Rights Reserved. rendering in 0.0083 second [53]</div>\\r\\n\\t\\t\\t            <ul class=\"foot_social\">\\r\\n\\t\\t\\t\\t\\t\\t\\t<li>\\r\\n                                <a href=\"https://www.facebook.com/medcomid\" target=\"_blank\" rel=\"nofollow\">\\r\\n                                    <img src=\"https://va.medcom.id/2024/default/images/main/ft-fb.svg\" alt=\"Facebook\"/>\\r\\n                                </a>\\r\\n                            </li>\\r\\n                            <li>\\r\\n                                <a href=\"https://twitter.com/medcom_id\" target=\"_blank\" rel=\"nofollow\">\\r\\n                                    <img src=\"https://va.medcom.id/2024/default/images/main/ft-x.svg\" alt=\"Twitter\"/>\\r\\n                                </a>\\r\\n                            </li>\\r\\n\\t\\t\\t\\t\\t\\t\\t<li>\\r\\n                                <a href=\"https://www.instagram.com/medcomid/\" target=\"_blank\" rel=\"nofollow\">\\r\\n                                    <img src=\"https://va.medcom.id/2024/default/images/main/ft-ig.svg\" alt=\"Instagram\"/>\\r\\n                                </a>\\r\\n                            </li>\\r\\n\\t\\t\\t\\t\\t\\t\\t<li>\\r\\n                                <a href=\"https://www.threads.net/@medcomid\" target=\"_blank\" rel=\"nofollow\">\\r\\n                                    <img src=\"https://va.medcom.id/2024/default/images/main/ft-threads.svg\" alt=\"Threads\"/>\\r\\n                                </a>\\r\\n                            </li>\\r\\n\\t\\t\\t\\t\\t\\t\\t<li>\\r\\n                                <a href=\"https://www.youtube.com/@medcomid\" target=\"_blank\" rel=\"nofollow\">\\r\\n                                    <img src=\"https://va.medcom.id/2024/default/images/main/ft-yt.svg\" alt=\"Youtube\"/>\\r\\n                                </a>\\r\\n                            </li>\\r\\n\\t\\t\\t\\t\\t\\t\\t<li>\\r\\n\\t\\t\\t\\t\\t\\t\\t\\t<a href=\"https://www.whatsapp.com/channel/0029VajqDncHVvTXWAPiEA2l\" target=\"_blank\" rel=\"nofollow\">\\r\\n\\t\\t\\t\\t\\t\\t\\t\\t\\t<img src=\"https://va.medcom.id/2024/default/images/main/ft-wa.svg\" alt=\"Whatsapp Channel\"/>\\r\\n\\t\\t\\t\\t\\t\\t\\t\\t</a>\\r\\n\\t\\t\\t\\t\\t\\t\\t</li>\\r\\n                            <li>\\r\\n                                <a href=\"https://www.linkedin.com/company/pt-citra-multimedia-indonesia\" target=\"_blank\" rel=\"nofollow\">\\r\\n                                    <img src=\"https://va.medcom.id/2024/default/images/main/ft-linked.svg\" alt=\"Linkedin\"/>\\r\\n                                </a>\\r\\n                            </li>\\r\\n\\t\\t\\t            </ul>\\r\\n\\t\\t\\t        </div>\\r\\n\\t\\t\\t    </div>\\r\\n\\t\\t\\t</div>\\r\\n\\r\\n\\t\\t\\t<!-- <script type=\"application/javascript\" src=\"//anymind360.com/js/1923/ats.js\"></script> -->\\r\\n        <!-- FOOTER END -->\\r\\n    </div>\\r\\n\\r\\n    <script id=\"menuTop\" type=\"application/json\">{\"main\":[{\"name\":\"Eduverse\",\"url\":\"https:\\\\/\\\\/www.medcom.id\\\\/pendidikan\\\\/\"},{\"name\":\"Tekno\",\"url\":\"https:\\\\/\\\\/www.medcom.id\\\\/teknologi\\\\/\"},{\"name\":\"Entertainment\",\"url\":\"https:\\\\/\\\\/www.medcom.id\\\\/hiburan\\\\/\"},{\"name\":\"Music\",\"url\":\"https:\\\\/\\\\/www.medcom.id\\\\/hiburan\\\\/musik\"},{\"name\":\"Properti\",\"url\":\"https:\\\\/\\\\/www.medcom.id\\\\/properti\\\\/\"},{\"name\":\"Gaya\",\"url\":\"https:\\\\/\\\\/www.medcom.id\\\\/gaya\\\\/\"},{\"name\":\"Otomotif\",\"url\":\"https:\\\\/\\\\/www.medcom.id\\\\/otomotif\\\\/\"},{\"name\":\"News\",\"url\":\"https:\\\\/\\\\/www.medcom.id\\\\/ekonomi\"},{\"name\":\"Olahraga\",\"url\":\"https:\\\\/\\\\/www.medcom.id\\\\/olahraga\"},{\"name\":\"Video\",\"url\":\"https:\\\\/\\\\/video.medcom.id\\\\/\"},[],{\"name\":\"Streaming\",\"url\":\"\",\"cluster\":[{\"name\":\"Metro TV\",\"url\":\"https:\\\\/\\\\/video.medcom.id\\\\/streaming\\\\/\"},{\"name\":\"Magna Channel\",\"url\":\"https:\\\\/\\\\/video.medcom.id\\\\/magnachannel\\\\/\"},{\"name\":\"Metro Globe\",\"url\":\"https:\\\\/\\\\/video.medcom.id\\\\/mgnetwork\\\\/\"},{\"name\":\"BN Channel\",\"url\":\"https:\\\\/\\\\/video.medcom.id\\\\/bnchannel\\\\/\"}]},{\"name\":\"Index\",\"url\":\"\"}],\"sub\":[]}</script>\\r\\n    <script id=\"pageData\" type=\"application/json\">{\"dt\":{\"main\":{\"url\":\"https:\\\\/\\\\/www.medcom.id\\\\/nasional\\\\/\",\"name\":\"NEWS\"},\"sub\":{\"url\":\"https:\\\\/\\\\/www.medcom.id\\\\/nasional\\\\/peristiwa\",\"name\":\"PERISTIWA\"},\"image\":\"https:\\\\/\\\\/cdn.medcom.id\\\\/dynamic\\\\/content\\\\/2025\\\\/08\\\\/05\\\\/1772229\\\\/vWZcNlHVJI.jpeg?w=1024\",\"captions\":\"Pesawat Lion Air. (MI\\\\/Heri Susetyo)\",\"title\":\"Terancam 8 Tahun Penjara, Ini Fakta-fakta Penumpang Lion Air Teriak Bom di Pesawat\",\"info\":\"Adri Prima &bull; 05 Agustus 2025 19:47\",\"content\":\"Jakarta: Maskapai <a href=\\\\\"https:\\\\/\\\\/www.medcom.id\\\\/tag\\\\/4061\\\\/lion-air\\\\\">Lion Air<\\\\/a> kembali menjadi pembicaraan setelah insiden seorang penumpang rute Jakarta-Kualanamu mengamuk dan berteriak adanya <a href=\\\\\"https:\\\\/\\\\/www.medcom.id\\\\/tag\\\\/23737\\\\/hype-viral\\\\\">bom<\\\\/a>, Sabtu, 2 Agustus 2025.<br \\\\/>\\\\r\\\\n<br \\\\/>\\\\r\\\\nTingkah penumpang tersebut membuat pesawat harus kembali ke apron dan seluruh penumpang diperiksa ulang. Pria tersebut kini resmi ditetapkan sebagai tersangka.&nbsp;<br \\\\/>\\\\r\\\\n<br \\\\/>\\\\r\\\\nBerikut ini fakta-fakta penumpang Lion Air teriak bom:<br \\\\/>\\\\r\\\\n&nbsp;\\\\r\\\\n<h3>1. Viral di media sosial<\\\\/h3>\\\\r\\\\n<br \\\\/>\\\\r\\\\nCuplikan video yang menunjukkan seorang pria berteriak adanya bom dalam pesawat Lion Air JT-308 rute Jakarta&ndash;Kualanamu viral di media sosial. Teriakan itu dilontarkan sebagai bentuk protes atas keterlambatan penerbangan.<br \\\\/>\\\\r\\\\n&nbsp;\\\\r\\\\n<h3>2. Pesawat sudah selesai push back<\\\\/h3>\\\\r\\\\n<br \\\\/>\\\\r\\\\nCorporate Communications Strategic of Lion Air, Danang Mandala Prihantoro menjelaskan bahwa insiden terjadi saat pesawat jenis Boeing 737-9 registrasi PK-LRH telah selesai melakukan push back dan bersiap menuju taxiway.<br \\\\/>\\\\r\\\\n&nbsp;\\\\r\\\\n<table>\\\\r\\\\n\\\\t<tbody>\\\\r\\\\n\\\\t\\\\t<tr>\\\\r\\\\n\\\\t\\\\t\\\\t<td>Baca juga:<br \\\\/>\\\\r\\\\n\\\\t\\\\t\\\\t<a href=\\\\\"https:\\\\/\\\\/www.medcom.id\\\\/nasional\\\\/peristiwa\\\\/xkEDpPpb-pria-di-depok-ditangkap-polisi-buntut-pamer-senpi-ke-warga\\\\\">Pria di Depok Ditangkap Polisi Buntut Pamer Senpi ke Warga<\\\\/a><\\\\/td>\\\\r\\\\n\\\\t\\\\t<\\\\/tr>\\\\r\\\\n\\\\t<\\\\/tbody>\\\\r\\\\n<\\\\/table>\\\\r\\\\n&nbsp;\\\\r\\\\n\\\\r\\\\n<h3>3. Awak kabin terapkan prosedur keamanan<\\\\/h3>\\\\r\\\\n<br \\\\/>\\\\r\\\\nSetelah mendengar teriakan ancaman bom dari penumpang, awak kabin langsung melakukan prosedur keamanan penerbangan berupa Return to Apron (RTA). Pesawat kembali ke apron untuk proses pemeriksaan menyeluruh.<br \\\\/>\\\\r\\\\n&nbsp;\\\\r\\\\n<h3>4. Penumpang yang berteriak bom langsung diamankan<\\\\/h3>\\\\r\\\\n<br \\\\/>\\\\r\\\\nPria berinisial H yang meneriakkan adanya bom diturunkan dari pesawat dan langsung diserahkan ke petugas keamanan bandara, Otoritas Bandara, PPNS, dan pihak kepolisian untuk diperiksa dan diproses secara hukum.<br \\\\/>\\\\r\\\\n&nbsp;\\\\r\\\\n<h3>5. Seluruh penumpang dan bagasi diperiksa ulang<\\\\/h3>\\\\r\\\\n<br \\\\/>\\\\r\\\\nSebagai bagian dari prosedur pengamanan, seluruh penumpang, bagasi, dan barang bawaan diturunkan dan diperiksa ulang oleh otoritas keamanan. Hal ini dilakukan untuk memastikan tidak ada ancaman nyata.<br \\\\/>\\\\r\\\\n&nbsp;\\\\r\\\\n<h3>6. Penerbangan dilanjutkan dengan pesawat lain<\\\\/h3>\\\\r\\\\n<br \\\\/>\\\\r\\\\nLion Air menyiapkan pesawat pengganti, Boeing 737-900ER registrasi PK-LSW, yang kemudian menerbangkan seluruh penumpang ke Kualanamu pada hari yang sama. Penerbangan akhirnya tiba dengan selamat di tujuan.<br \\\\/>\\\\r\\\\n&nbsp;\\\\r\\\\n<h3>7. Pelaku terancam 8 tahun penjara<\\\\/h3>\\\\r\\\\n<br \\\\/>\\\\r\\\\nPria yang berteriak bom kini sudah ditetapkan sebagai tersangka. Pelaku terjerat Pasal 437 UU Nomor 1 Tahun 2009 tentang Penerbangan. Ancaman pidananya mencapai 8 tahun penjara.&nbsp;<br \\\\/>\\\\r\\\\n<br \\\\/>\\\\r\\\\nPihak Lion Air dan otoritas bandara menegaskan bahwa tindakan seperti ini tidak bisa ditoleransi karena mengancam keselamatan publik.<div id=\\\\\"author\\\\\">(PRI)<\\\\/div><strong>Cek Berita dan Artikel yang lain di <a href=\\\\\"https:\\\\/\\\\/news.google.com\\\\/publications\\\\/CAAqBwgKMO3SgQswosT9Ag?ceid=ID:id&amp;oc=3&amp;hl=id&amp;gl=ID\\\\\\\\\\\\\">Google News<\\\\/a><\\\\/strong><\\\\/br>\\\\r\\\\n                    <strong>dan&nbsp;<em>follow&nbsp;<\\\\/em><a href=\\\\\"https:\\\\/\\\\/www.whatsapp.com\\\\/channel\\\\/0029VajqDncHVvTXWAPiEA2l\\\\\">Channel WhatsApp Medcom.id<\\\\/a><\\\\/strong><\\\\/br><\\\\/br>\",\"tags\":[{\"url_tag\":\"\\\\/tag\\\\/4061\\\\/lion-air\",\"title_tag\":\"Lion Air\"},{\"url_tag\":\"\\\\/tag\\\\/465\\\\/ancaman-bom\",\"title_tag\":\"ancaman bom\"},{\"url_tag\":\"\\\\/tag\\\\/23737\\\\/hype-viral\",\"title_tag\":\"Hype & Viral\"}],\"cats\":[{\"url_cat\":\"https:\\\\/\\\\/www.medcom.id\\\\/nasional\\\\/peristiwa\",\"title_cat\":\"peristiwa\"}]},\"hi\":[{\"title\":\"Padel Kena Pajak 10 Persen! Olahraga Jadi Mewah, Ini Daftar Arena yang Ikut Terdampak\",\"url\":\"https:\\\\/\\\\/www.medcom.id\\\\/ekonomi\\\\/bisnis\\\\/MkMOpzwN-padel-kena-pajak-10-persen-olahraga-jadi-mewah-ini-daftar-arena-yang-ikut-terdampak\",\"image\":\"\\\\/dynamic\\\\/content\\\\/2025\\\\/07\\\\/05\\\\/1767476\\\\/qlSuURGtF3.jpg\",\"tags\":[{\"url_tag\":\"\\\\/tag\\\\/772\\\\/pajak\",\"title_tag\":\"Pajak\"}]},{\"title\":\"Mau Pensiun Dini? Begini Cara dan Syarat Lengkap untuk Karyawan Swasta dan PNS\",\"url\":\"https:\\\\/\\\\/www.medcom.id\\\\/ekonomi\\\\/bisnis\\\\/gNQZpQab-mau-pensiun-dini-begini-cara-dan-syarat-lengkap-untuk-karyawan-swasta-dan-pns\",\"image\":\"\\\\/dynamic\\\\/content\\\\/2025\\\\/07\\\\/05\\\\/1767458\\\\/CDGs0zSLNi.jpg\",\"tags\":[{\"url_tag\":\"\\\\/tag\\\\/11540\\\\/pensiunan-pns\",\"title_tag\":\"Pensiunan PNS\"}]},{\"title\":\"Daftar 5 Miliarder Wanita Terkaya Dunia 2025\",\"url\":\"https:\\\\/\\\\/www.medcom.id\\\\/ekonomi\\\\/global\\\\/0k8BnRdN-daftar-5-miliarder-wanita-terkaya-dunia-2025\",\"image\":\"\\\\/dynamic\\\\/content\\\\/2025\\\\/06\\\\/27\\\\/1766269\\\\/xej8v4JLPU.jpg\",\"tags\":[{\"url_tag\":\"\\\\/tag\\\\/4356\\\\/daftar-forbes\",\"title_tag\":\"daftar forbes\"}]},{\"title\":\"Jadwal Konser Musik Juli 2025: Ada G-Dragon, Prambanan Jazz, hingga PRJ!\",\"url\":\"https:\\\\/\\\\/www.medcom.id\\\\/hiburan\\\\/indis\\\\/ob3zjmmN-jadwal-konser-musik-juli-2025-ada-g-dragon-prambanan-jazz-hingga-prj\",\"image\":\"\\\\/dynamic\\\\/content\\\\/2025\\\\/07\\\\/01\\\\/1766757\\\\/90jsJmZHUV.jpg\",\"tags\":[{\"url_tag\":\"\\\\/tag\\\\/1232\\\\/konser-musik\",\"title_tag\":\"Konser Musik\"}]},{\"title\":\"Inspirasi Menabung dari Berbagai Negara, Dari Amplop Amerika hingga Arisan Afrika\",\"url\":\"https:\\\\/\\\\/www.medcom.id\\\\/ekonomi\\\\/keuangan\\\\/4baOpe0K-inspirasi-menabung-dari-berbagai-negara-dari-amplop-amerika-hingga-arisan-afrika\",\"image\":\"\\\\/dynamic\\\\/content\\\\/2025\\\\/07\\\\/02\\\\/1766867\\\\/XJoZQ4Sk0V.jpg\",\"tags\":[{\"url_tag\":\"\\\\/tag\\\\/8033\\\\/menabung\",\"title_tag\":\"Menabung\"}]}]}</script>\\r\\n    <script id=\"detailTerkait\" type=\"application/json\">[{\"title\":\"Semakin Banyak Maskapai Buka Rute Domestik Baru, Perkuat Konektivitas Wisatawan\",\"url\":\"https:\\\\/\\\\/www.medcom.id\\\\/gaya\\\\/wisata\\\\/9K5ewelK-semakin-banyak-maskapai-buka-rute-domestik-baru-perkuat-konektivitas-wisatawan\",\"image\":\"\\\\/dynamic\\\\/content\\\\/2025\\\\/02\\\\/25\\\\/1747189\\\\/N6BtrKkpYa.jpeg\"},{\"title\":\"Lion Air Ditunjuk Jadi Maskapai Penerbangan Haji 2025\",\"url\":\"https:\\\\/\\\\/www.medcom.id\\\\/nasional\\\\/peristiwa\\\\/8N0LxBYN-lion-air-ditunjuk-jadi-maskapai-penerbangan-haji-2025\",\"image\":\"\\\\/dynamic\\\\/content\\\\/2025\\\\/01\\\\/04\\\\/1738579\\\\/XucdMgkROZ.jpg\"},{\"title\":\"Media Visit Lion Parcel ke Media Group\",\"url\":\"https:\\\\/\\\\/www.medcom.id\\\\/gaya\\\\/community\\\\/zNARpj2b-media-visit-lion-parcel-ke-media-group\",\"image\":\"\\\\/dynamic\\\\/content\\\\/2024\\\\/12\\\\/06\\\\/1733102\\\\/fld6YJrMph.jpeg\"}]</script>\\r\\n    <script id=\"detailLain\" type=\"application/json\">[{\"title\":\"Viral Oknum Polisi Tolak Proses Hukum Maling Motor, Ini Respons Kapolres Bekasi\",\"kanal\":\"News\",\"url\":\"https:\\\\/\\\\/www.medcom.id\\\\/nasional\\\\/peristiwa\\\\/ZkeZG37K-viral-oknum-polisi-tolak-proses-hukum-maling-motor-ini-respons-kapolres-bekasi\",\"image\":\"\\\\/dynamic\\\\/content\\\\/2025\\\\/09\\\\/11\\\\/1778256\\\\/ThPyGo8Q71.jpg\"},{\"title\":\"Demonstrasi Ricuh di Nepal: 22 Orang Tewas hingga Kantor Pemerintahan Dibakar\",\"kanal\":\"News\",\"url\":\"https:\\\\/\\\\/www.medcom.id\\\\/internasional\\\\/asia\\\\/yKXLaEXK-demonstrasi-ricuh-di-nepal-22-orang-tewas-hingga-kantor-pemerintahan-dibakar\",\"image\":\"\\\\/dynamic\\\\/content\\\\/2025\\\\/09\\\\/10\\\\/1778042\\\\/WEDi5XBmJP.jpg\"},{\"title\":\"Mulai 1 Oktober, Trump Berlakukan Tarif Tinggi untuk Obat hingga Furnitur\",\"kanal\":\"News\",\"url\":\"https:\\\\/\\\\/www.medcom.id\\\\/ekonomi\\\\/global\\\\/lKYD0Lok-mulai-1-oktober-trump-berlakukan-tarif-tinggi-untuk-obat-hingga-furnitur\",\"image\":\"\\\\/dynamic\\\\/content\\\\/2025\\\\/09\\\\/26\\\\/1780761\\\\/KIEZyOVYja.jpg\"},{\"title\":\"Indra Sjafri Latih Timnas U23 di SEA Games 2025\",\"kanal\":\"Olahraga\",\"url\":\"https:\\\\/\\\\/www.medcom.id\\\\/olahraga\\\\/liga-dunia\\\\/8kozp7Ob-indra-sjafri-latih-timnas-u23-di-sea-games-2025\",\"image\":\"\\\\/dynamic\\\\/content\\\\/2025\\\\/09\\\\/29\\\\/1781162\\\\/n0uSCTFgol.jpeg\"},{\"title\":\"Kendaraan Sipil Pribadi Dilarang Pakai Strobo dan Sirine\",\"kanal\":\"Otomotif\",\"url\":\"https:\\\\/\\\\/www.medcom.id\\\\/otomotif\\\\/mobil\\\\/lKYD0WQk-kendaraan-sipil-pribadi-dilarang-pakai-strobo-dan-sirine\",\"image\":\"\\\\/dynamic\\\\/content\\\\/2025\\\\/09\\\\/28\\\\/1781017\\\\/pRILfoJlzM.jpg\"},{\"title\":\"Film Rangga & Cinta Siap Bangkitkan Kenangan Lama\",\"kanal\":\"Entertainment\",\"url\":\"https:\\\\/\\\\/www.medcom.id\\\\/hiburan\\\\/film\\\\/ZkeZ75qK-film-rangga-cinta-siap-bangkitkan-kenangan-lama\",\"image\":\"\\\\/dynamic\\\\/content\\\\/2025\\\\/09\\\\/29\\\\/1781156\\\\/ErgbwA4tIX.jpg\"},{\"title\":\"Recap MPL ID Season 16 Week 6: ONIC Masih Perkasa, TLID Terpuruk di Dasar Klasemen\",\"kanal\":\"Tekno\",\"url\":\"https:\\\\/\\\\/www.medcom.id\\\\/teknologi\\\\/esports\\\\/Rb1DdJdN-recap-mpl-id-season-16-week-6-onic-masih-perkasa-tlid-terpuruk-di-dasar-klasemen\",\"image\":\"\\\\/dynamic\\\\/content\\\\/2025\\\\/09\\\\/29\\\\/1781071\\\\/KLtu51zd2m.JPG\"},{\"title\":\"1 Oktober Memperingati Hari Apa? Ini Sejarah, Tema dan Makna Hari Kesaktian Pancasila 2025\",\"kanal\":\"Eduverse\",\"url\":\"https:\\\\/\\\\/www.medcom.id\\\\/pendidikan\\\\/news-pendidikan\\\\/nN9O6l5k-1-oktober-memperingati-hari-apa-ini-sejarah-tema-dan-makna-hari-kesaktian-pancasila-2025\",\"image\":\"\\\\/dynamic\\\\/content\\\\/2025\\\\/09\\\\/29\\\\/1781130\\\\/frJjwnD3N1.jpg\"},{\"title\":\"Efek Buruk Membiarkan Pintu Kamar Mandi Terbuka di Rumah\",\"kanal\":\"Properti\",\"url\":\"https:\\\\/\\\\/www.medcom.id\\\\/properti\\\\/news-properti\\\\/zNPlVqgN-efek-buruk-membiarkan-pintu-kamar-mandi-terbuka-di-rumah\",\"image\":\"\\\\/dynamic\\\\/content\\\\/2025\\\\/09\\\\/23\\\\/1780175\\\\/yiSFbd1j9w.jpg\"}]</script>\\r\\n\\r\\n    <script type=\"text/javascript\" src=\"https://cdn.jsdelivr.net/npm/vanilla-lazyload@10.19.1/dist/lazyload.min.js\"></script>\\r\\n\\r\\n        <!-- STICKY HERE -->\\r\\n    <div class=\"footer_sticky\" id=\"footer_sticky\" style=\"display:block\">\\r\\n        <div class=\"footer_sticky_inside\">\\r\\n            <a class=\"close_button\" id=\"close_button\" onclick=\"closeAds()\">Close Ads X</a>\\r\\n            <div id=\\'Ads_bottomsticky\\' style=\\'width: 970px; height: 90px;\\'>\\r\\n                <script>\\r\\n                    googletag.cmd.push(function() {\\r\\n                        googletag.display(bottomsticky);\\r\\n                    });\\r\\n\\r\\n                    setTimeout(function() {\\r\\n                        var a = document.getElementById(\\'footer_sticky\\').clientHeight;\\r\\n                        if (a < 40)\\r\\n                            document.getElementById(\\'close_button\\').style.display = \"none\";\\r\\n                    }, 2500);\\r\\n                </script>\\r\\n            </div>\\r\\n        </div>\\r\\n    </div>\\r\\n    <!-- STICKY END -->\\r\\n    \\r\\n    <!-- GPT AdSlot 1 for Ad unit \\'D_Nus_Sky1/OOP\\' ### Size: Out of Page -->\\r\\n    <!-- <div id=\\'div-gpt-ad-oop\\'>\\r\\n        <script>\\r\\n            googletag.cmd.push(function() {\\r\\n                googletag.display(\\'div-gpt-ad-oop\\');\\r\\n            });\\r\\n        </script> \\r\\n    </div>-->\\r\\n    <!-- End AdSlot 1 -->\\r\\n\\r\\n    \\r\\n\\r\\n    <script>\\r\\n        window.addEventListener(\\'load\\', function() {\\r\\n            window.fontSize = 18;\\r\\n            const menuTopFn = async () => {\\r\\n                try {\\r\\n                    const { pathname } = window.location;\\r\\n                    const paths = pathname.split(\"/\").filter(entry => entry !== \"\");\\r\\n                    const lastPath = paths[paths.length - 1];\\r\\n                    const mdcUrl = window.location.protocol + \\'//\\' + window.location.hostname;\\r\\n                    const hmeUrl = (lastPath.toLowerCase() !== \"ekonomi\") ? mdcUrl + \"/ekonomi/\" : mdcUrl;\\r\\n                    const idxUrl = mdcUrl + \"/index/nasional/\";\\r\\n                    document.getElementById(\\'lnkHome\\').href = hmeUrl;\\r\\n                    const menuDta       = JSON.parse(document.querySelector(\"#menuTop\").textContent);    \\r\\n                    const menunKeydata  = Object.keys(menuDta);\\r\\n                    menunKeydata.forEach(async (keymn) => {\\r\\n                        const ulList = document.getElementById(\"mn\"+keymn);\\r\\n                        menuDta[keymn].forEach(async (val) => {\\r\\n                            const liList = document.createElement(\"li\");\\r\\n                            const lnkHref = document.createElement(\"a\");\\r\\n                            if(val.cluster || false){\\r\\n                                liList.classList.add(\\'dropdown\\');\\r\\n                                liList.innerHTML = \"<a><span>\"+val.name+\" <i class=\\\\\"fa fa-caret-down\\\\\"></i></span></a>\";\\r\\n                                const ulCltrList = document.createElement(\"ul\");\\r\\n                                ulCltrList.classList.add(\\'drops\\');\\r\\n                                val.cluster.forEach(function(valClt){\\r\\n                                    const lnkCltrHref = document.createElement(\"a\");\\r\\n                                    const liCltrList = document.createElement(\"li\");\\r\\n                                    lnkCltrHref.href = valClt.url;\\r\\n                                    lnkCltrHref.append(valClt.name);\\r\\n                                    liCltrList.append(lnkCltrHref);\\r\\n                                    ulCltrList.append(liCltrList);\\r\\n                                });\\r\\n                                liList.append(ulCltrList);\\r\\n                                ulList.append(liList);\\r\\n                            } else {\\r\\n                                if (Array.isArray(val) || val.length) {\\r\\n                                    val.forEach(function(valPly){\\r\\n                                        const lnkPlyHref = document.createElement(\"a\");\\r\\n                                        const liPlyList = document.createElement(\"li\");\\r\\n                                        lnkPlyHref.href = valPly.url;\\r\\n                                        lnkPlyHref.append(valPly.name);\\r\\n                                        lnkPlyHref.classList.add(\\'highlight\\')\\r\\n                                        liPlyList.append(lnkPlyHref);\\r\\n                                        ulList.append(liPlyList);\\r\\n                                    });\\r\\n                                } else {\\r\\n                                    lnkHref.href = (val.name.toLowerCase() === \\'index\\') ? idxUrl : val.url;\\r\\n                                    lnkHref.append(val.name);\\r\\n                                    (val.name.toLowerCase() === \\'news\\') ? lnkHref.classList.add(\\'current\\') : \"\";\\r\\n                                    liList.append(lnkHref);\\r\\n                                    ulList.append(liList);\\r\\n                                }\\r\\n                            }\\r\\n                        });\\r\\n                    });\\r\\n                } catch (err) {\\r\\n                    console.log(\\'menuTopFn\\', err);\\r\\n                }\\r\\n            }\\r\\n\\r\\n            const terkaitDataFn = async () => {\\r\\n                try {\\r\\n                    const terkaitDta    = JSON.parse(document.querySelector(\"#detailTerkait\").textContent);    \\r\\n                    \\r\\n                    terkaitDta.forEach((valTerkait, idxTerkait) => {\\r\\n                        const dvCt  = document.getElementById(\"rc\");\\r\\n                        const d = document.createElement(\"div\");\\r\\n                        const innerHTML  =\\r\\n                            \"<div id=\\\\\"\" +idxTerkait+ \"Rc\\\\\" class=\\\\\"pic\\\\\">\" +\\r\\n                            \"<a href=\\\\\"\" + valTerkait.url + \"\\\\\"><img src=\\\\\"https://cdn.medcom.id/\" + valTerkait.image + \"?w=660\\\\\" width=\\\\\"210\\\\\" height=\\\\\"150\\\\\" alt=\\\\\"\" + valTerkait.title + \"\\\\\" data-loading=\\\\\"true\\\\\" data-loaded=\\\\\"true\\\\\" style=\\\\\"visibility: visible;\\\\\"></a>\" +\\r\\n                            \"</div>\" +\\r\\n                            \"<div class=\\\\\"text\\\\\">\" +\\r\\n                                \"<h3><a href=\\\\\"\"+ valTerkait.url +\"\\\\\">\"+ valTerkait.title +\"</a></h3>\" +\\r\\n                            \"</div>\";\\r\\n                            d.className = \"box_7_ct\";\\r\\n                            d.innerHTML = innerHTML;\\r\\n                            dvCt.append(d);\\r\\n\\r\\n                            (idxTerkait != 0) ? document.getElementById(idxTerkait+\"Rc\").outerHTML = \"\" : \"\";\\r\\n                    }); \\r\\n                \\r\\n                } catch (err) {\\r\\n                    console.log(\\'terkaitDataFn\\', err);\\r\\n                }\\r\\n            }\\r\\n\\r\\n            const lainDataFn = async () => {\\r\\n                try {\\r\\n                    const lainDta    = JSON.parse(document.querySelector(\"#detailLain\").textContent);    \\r\\n                    \\r\\n                    lainDta.forEach((valLain) => {\\r\\n                        const dvOc  = document.getElementById(\"oc\");\\r\\n                        const d = document.createElement(\"div\");\\r\\n                            \\r\\n                        const innerHTML  = \\r\\n                                    \"<div class=\\\\\"box_8_ct\\\\\">\" +\\r\\n                                        \"<div class=\\\\\"pic\\\\\">\" +\\r\\n                                            \"<a href=\\\\\"\" +valLain.url+ \"\\\\\">\" +\\r\\n                                                \"<img src=\\\\\"https://cdn.medcom.id/\" + valLain.image + \"?w=450\\\\\" width=\\\\\"390\\\\\" height=\\\\\"260\\\\\" alt=\\\\\"\" + valLain.title + \"\\\\\" data-loading=\\\\\"true\\\\\" data-loaded=\\\\\"true\\\\\" style=\\\\\"visibility: visible;\\\\\">\" +\\r\\n                                            \"</a>\" +\\r\\n                                        \"</div>\" +\\r\\n                                        \"<div class=\\\\\"text\\\\\">\" +\\r\\n                                            \"<a href=\\\\\"https://medcom.id/\" + valLain.kanal.toLowerCase() + \"\\\\\" class=\\\\\"tag2\\\\\">\"+ valLain.kanal +\"</a>\" +\\t\\t\\t\\t\\t\\t\\t\\t\\r\\n                                            \"<h4><a href=\\\\\"\" + valLain.url + \"\\\\\">\"+ valLain.title +\"</a></h4>\" +\\r\\n                                        \"</div>\" +\\r\\n                                    \"</div>\";\\r\\n                            d.className = \"box_8 pertwo\";\\r\\n                            d.innerHTML = innerHTML;\\r\\n                            dvOc.append(d);\\r\\n                    }); \\r\\n                \\r\\n                } catch (err) {\\r\\n                    console.log(\\'lainDataFn\\', err);\\r\\n                }\\r\\n            }\\r\\n            \\r\\n            \\r\\n            const fnLazyTwitter = () => {\\r\\n                return new Promise(function(resolve, reject) {\\r\\n                    try {\\r\\n                        if (window.ua) {\\r\\n                            return resolve()\\r\\n                        }\\r\\n                        loadLazy(null, document.querySelector(\"#articleBody .twitter-tweet\"), \"500px 0px 500px 0px\", 0.1, function(e) {\\r\\n                            [...document.querySelectorAll(\"script[data-src]:not([data-src=\\'\\'])\")].map((e2) => {\\r\\n                                let datasrc = e2.getAttribute(\"data-src\") || \\'\\';\\r\\n                                e2.removeAttribute(\"data-src\");\\r\\n                                if (datasrc != \\'\\') {\\r\\n                                    e2.setAttribute(\"src\", datasrc);\\r\\n                                }\\r\\n                            })\\r\\n                        })\\r\\n                        return resolve();\\r\\n                    } catch (err) {\\r\\n                        console.log(\\'fnLazyTwitter\\', err);\\r\\n                        return resolve();\\r\\n                    }\\r\\n                })\\r\\n            }\\r\\n\\r\\n            const fnLazyIntagram = () => {\\r\\n                return new Promise(function(resolve, reject) {\\r\\n                    try {\\r\\n                        if (window.ua) {\\r\\n                            return resolve()\\r\\n                        }\\r\\n                        loadLazy(null, document.querySelector(\"#articleBody .instagram-media\"), \"500px 0px 500px 0px\", 0.1, function(e) {\\r\\n                            [...document.querySelectorAll(\"script[data-src]:not([data-src=\\'\\'])\")].map((e2) => {\\r\\n                                let datasrc = e2.getAttribute(\"data-src\") || \\'\\';\\r\\n                                e2.removeAttribute(\"data-src\");\\r\\n                                if (datasrc != \\'\\') {\\r\\n                                    e2.setAttribute(\"src\", datasrc);\\r\\n                                }\\r\\n                            })\\r\\n                        })\\r\\n                        return resolve();\\r\\n                    } catch (err) {\\r\\n                        console.log(\\'fnLazyIntagram\\', err);\\r\\n                        return resolve();\\r\\n                    }\\r\\n                })\\r\\n            }\\r\\n\\r\\n            const fnLazyIFrame = (url) => {\\r\\n                return new Promise(function(resolve, reject) {\\r\\n                    try {\\r\\n                        if (window.ua) {\\r\\n                            return resolve()\\r\\n                        }\\r\\n                        let el = [...document.querySelectorAll(\"#articleBody iframe\")]\\r\\n                        loadLazy(null, el, \\'0px\\', 0.40, (e) => {\\r\\n                            if (e.target.dataset.src != undefined) {\\r\\n                                e.target.addEventListener(\"load\", function(ev) {\\r\\n                                    setTimeout(function() {\\r\\n                                        e.target.style.visibility = \\'visible\\';\\r\\n                                    }, 50);\\r\\n                                });\\r\\n                                e.target.src = e.target.dataset.src;\\r\\n                            }\\r\\n                        })\\r\\n                        return resolve();\\r\\n                    } catch (err) {\\r\\n                        console.log(\\'fnLazyIFrame\\', err);\\r\\n                        return resolve();\\r\\n                    }\\r\\n                })\\r\\n            }\\r\\n\\r\\n            const fnHandleFontMinPlus = () => {\\r\\n                return new Promise(function(resolve, reject) {\\r\\n                    try {\\r\\n                        if (window.ua) {\\r\\n                            return resolve()\\r\\n                        }\\r\\n                        document.querySelector(\".font_min\").addEventListener(\"click\", (e) => {\\r\\n                            e.preventDefault();\\r\\n                            try {\\r\\n                                if (fontSize <= 12) {\\r\\n                                    fontSize - 0;\\r\\n                                } else {\\r\\n                                    fontSize--;\\r\\n                                }\\r\\n                                document.querySelector(\".article_ct .text\").style.fontSize = (fontSize + \\'px\\');\\r\\n                            } catch (err) {\\r\\n                                console.log(\"font_min\", err)\\r\\n                            }\\r\\n                        });\\r\\n                        document.querySelector(\".font_plus\").addEventListener(\"click\", (e) => {\\r\\n                            e.preventDefault();\\r\\n                            try {\\r\\n                                if (fontSize >= 18) {\\r\\n                                    fontSize + 0;\\r\\n                                } else {\\r\\n                                    fontSize++;\\r\\n                                }\\r\\n                                document.querySelector(\".article_ct .text\").style.fontSize = (fontSize + \\'px\\');\\r\\n                            } catch (err) {\\r\\n                                console.log(\"font_plus\", err)\\r\\n                            }\\r\\n                        });\\r\\n                        return resolve();\\r\\n                    } catch (err) {\\r\\n                        console.log(\\'fnHandleFontMinPlus\\', err);\\r\\n                        return resolve();\\r\\n                    }\\r\\n                })\\r\\n            }\\r\\n\\r\\n            const fnHandleSearchClick = () => {\\r\\n                return new Promise(function(resolve, reject) {\\r\\n                    try {\\r\\n                        if (window.ua) {\\r\\n                            return resolve()\\r\\n                        }\\r\\n                        document.querySelector(\"#sc\").addEventListener(\"click\", (e) => {\\r\\n                            e.preventDefault();\\r\\n                            try {\\r\\n                                let el = document.querySelector(\".src\");\\r\\n                                if (el.classList.contains(\"show\")) {\\r\\n                                    document.querySelector(\".src\").classList.remove(\"show\");\\r\\n                                } else {\\r\\n                                    document.querySelector(\".src\").classList.add(\"show\");\\r\\n                                }\\r\\n                            } catch (err) {\\r\\n                                console.log(\"sc\", err)\\r\\n                            }\\r\\n                        });\\r\\n                        document.querySelector(\".bt_src\").addEventListener(\"click\", (e) => {\\r\\n                            e.preventDefault();\\r\\n                            try {\\r\\n                                let el = document.querySelector(\".src\");\\r\\n                                if (el.classList.contains(\"show\")) {\\r\\n                                    document.querySelector(\".src\").classList.remove(\"show\");\\r\\n                                } else {\\r\\n                                    document.querySelector(\".src\").classList.add(\"show\");\\r\\n                                }\\r\\n                            } catch (err) {\\r\\n                                console.log(\"bt_src\", err)\\r\\n                            }\\r\\n                        });\\r\\n                        return resolve();\\r\\n                    } catch (err) {\\r\\n                        console.log(\\'fnHandleSearchClick\\', err);\\r\\n                        return resolve();\\r\\n                    }\\r\\n                })\\r\\n            }\\r\\n\\r\\n            const fnLazyJS = (url) => {\\r\\n                return new Promise(function(resolve, reject) {\\r\\n                    try {\\r\\n                        if (window.ua) {\\r\\n                            return resolve()\\r\\n                        }\\r\\n                        loadJS(url, false);\\r\\n                        return resolve();\\r\\n                    } catch (err) {\\r\\n                        console.log(\\'fnLazyJS\\', err);\\r\\n                        return resolve();\\r\\n                    }\\r\\n                })\\r\\n            }\\r\\n\\r\\n            const fnLoadDailyMotion = () => {\\r\\n                return new Promise(function(resolve, reject) {\\r\\n                    try {\\r\\n                        if (window.ua) {\\r\\n                            return resolve()\\r\\n                        }\\r\\n                        let el = [document.querySelector(\".box_15\")];\\r\\n                        loadLazy(null, el, \\'300px 0px 300px 0px\\', 0.33, async (e) => {\\r\\n                            await fnLazyJS(\"https://cdn.jsdelivr.net/npm/@dmvs-apac/dm-custom-embed@1.5.10/dist/dm-ce.min.js\")\\r\\n                        })\\r\\n                        return resolve()\\r\\n                    } catch (err) {\\r\\n                        console.log(\\'fnLoadDailyMotion\\', err);\\r\\n                        return resolve()\\r\\n                    }\\r\\n                })\\r\\n            }\\r\\n\\r\\n            const fnLoadImage = () => {\\r\\n                return new Promise(function(resolve, reject) {\\r\\n                    try {\\r\\n                        if (window.ua) {\\r\\n                            return resolve()\\r\\n                        }\\r\\n                        let imgs = [...document.querySelectorAll(\"img[data-src]:not([data-src=\\'\\'])\")];\\r\\n                        //imgs = imgs.concat([...document.querySelectorAll(\"div.wfull.header img[data-src]:not([data-src=\\'\\'])\")]);\\r\\n                        //imgs = imgs.concat([...document.querySelectorAll(\"#footer img[data-src]:not([data-src=\\'\\'])\")]);\\r\\n                        loadLazy(null, imgs, \\'0px\\', 0.33, (e) => {\\r\\n                            let lazyImage = e.target;\\r\\n                            if (lazyImage.dataset.src) {\\r\\n                                if (lazyImage.dataset.src.length > 0) {\\r\\n                                    lazyImage.src = lazyImage.dataset.src;\\r\\n                                    lazyImage.removeAttribute(\"data-src\");\\r\\n                                    lazyImage.style.visibility = \"visible\";\\r\\n                                }\\r\\n                            }\\r\\n                        })\\r\\n                        return resolve()\\r\\n                    } catch (err) {\\r\\n                        console.log(\\'fnLoadImage\\', err);\\r\\n                        return resolve()\\r\\n                    }\\r\\n                })\\r\\n            }\\r\\n\\r\\n            const fnLoadComment = () => {\\r\\n                return new Promise(function(resolve, reject) {\\r\\n                    try {\\r\\n                        if (window.ua) {\\r\\n                            return resolve()\\r\\n                        }\\r\\n                        let el = document.querySelector(\".box_14.comment_section\");\\r\\n                        loadLazy(null, el, \\'300px 0px 300px 0px\\', 0.33, (e) => {\\r\\n                            fnLazyJS(\"https://cdnjs.cloudflare.com/ajax/libs/pym/1.3.2/pym.v1.min.js\");\\r\\n                        })\\r\\n                        return resolve()\\r\\n                    } catch (err) {\\r\\n                        console.log(\\'fnLoadComment\\', err);\\r\\n                        return resolve()\\r\\n                    }\\r\\n                })\\r\\n            }\\r\\n\\r\\n            const fnLoadDable = () => {\\r\\n                return new Promise(function(resolve, reject) {\\r\\n                    try {\\r\\n                        if (window.ua) {\\r\\n                            return resolve()\\r\\n                        }\\r\\n                        let el = document.querySelector(\"#baca_juga\");\\r\\n                        loadLazy(null, el, \\'300px 0px 300px 0px\\', 0.33, (e) => {\\r\\n                            (function(d, a, b, l, e, _) {\\r\\n                                if (d[b] && d[b].q) return;\\r\\n                                d[b] = function() {\\r\\n                                    (d[b].q = d[b].q || []).push(arguments)\\r\\n                                };\\r\\n                                e = a.createElement(l);\\r\\n                                e.async = 1;\\r\\n                                e.charset = \\'utf-8\\';\\r\\n                                e.src = \\'//static.dable.io/dist/plugin.min.js\\';\\r\\n                                _ = a.getElementsByTagName(l)[0];\\r\\n                                _.parentNode.insertBefore(e, _);\\r\\n                            })(window, document, \\'dable\\', \\'script\\');\\r\\n                            dable(\\'setService\\', \\'medcom.id\\');\\r\\n                            dable(\\'sendLogOnce\\');\\r\\n                            dable(\\'renderWidget\\', \\'dablewidget_G7Z5wGoW\\');\\r\\n                        })\\r\\n                        return resolve()\\r\\n                    } catch (err) {\\r\\n                        console.log(\\'fnLoadDable\\', err);\\r\\n                        return resolve()\\r\\n                    }\\r\\n                })\\r\\n            }\\r\\n\\r\\n            const fnLoadAdvernative = () => {\\r\\n                return new Promise(function(resolve, reject) {\\r\\n                    try {\\r\\n                        if (window.ua) {\\r\\n                            return resolve()\\r\\n                        }\\r\\n                        let el = document.querySelector(\"#author\");\\r\\n                        loadLazy(null, el, \\'400px 0px 400px 0px\\', 0.33, (e) => {\\r\\n                            fnLazyJS(\"https://click.advertnative.com/loading/?handle=15172\");\\r\\n                            fnLazyJS(\"https://jsc.mgid.com/m/e/medcom.id.1526898.js\");\\r\\n                        })\\r\\n                        return resolve()\\r\\n                    } catch (err) {\\r\\n                        console.log(\\'fnLoadAdvernative\\', err);\\r\\n                        return resolve()\\r\\n                    }\\r\\n                })\\r\\n            }\\r\\n\\r\\n            const fnMenuHandler = async () => {\\r\\n                try {\\r\\n                    if (window.ua) {\\r\\n                        return\\r\\n                    }\\r\\n                    document.querySelector(\".burger\").addEventListener(\"click\", (ev) => {\\r\\n                        //document.querySelector(\".mega_menu\").style.display = \\'block\\';\\r\\n                        document.querySelector(\".mega_menu\").classList.add(\"show\");\\r\\n                    })\\r\\n                    document.querySelector(\".mega_close\").addEventListener(\"click\", (ev) => {\\r\\n                        document.querySelector(\".mega_menu\").classList.remove(\"show\");\\r\\n                        //document.querySelector(\".mega_menu\").style.display = \\'none\\';\\r\\n                    })\\r\\n                } catch (err) {\\r\\n                    console.log(\\'fnMenuHandler\\', err);\\r\\n                }\\r\\n            }\\r\\n\\r\\n            const fnShowTopics = async function() {\\r\\n                try {\\r\\n                    if (window.ua) {\\r\\n                        return\\r\\n                    }\\r\\n                    let divTopic = document.querySelector(\\'#topic\\');\\r\\n                    let topicData = JSON.parse(document.getElementById(\\'topicData\\').textContent);\\r\\n                    await Promise.all(topicData.map(async (e) => {\\r\\n                        let tagLink = document.createElement(\\'a\\');\\r\\n                        tagLink.setAttribute(\\'class\\', \\'topic\\');\\r\\n                        tagLink.setAttribute(\\'href\\', e.link);\\r\\n                        tagLink.innerHTML = \\'<i class=\"fa fa-folder\"></i> \\' + e.topic;\\r\\n                        return (divTopic.appendChild(tagLink));\\r\\n                    }));\\r\\n                    divTopic.style.display = \\'block\\';\\r\\n                    return divTopic;\\r\\n\\r\\n                } catch (err) {\\r\\n                    console.log(\\'fnShowTopics\\', err);\\r\\n                }\\r\\n            }\\r\\n            //console.log(navigator.userAgent, window.ua);\\r\\n            Promise.all([menuTopFn(), fnHandleFontMinPlus(), fnMenuHandler(), fnHandleSearchClick()]).then(() => {\\r\\n                //adsLoader();\\r\\n                fnLazyTwitter();\\r\\n                fnLazyIntagram();\\r\\n                fnLoadImage();\\r\\n                fnLoadComment();\\r\\n                fnLoadAdvernative();\\r\\n                fnLoadDable();\\r\\n                //fnLoadDailyMotion();\\r\\n                fnShowTopics();\\r\\n            });\\r\\n            loadLazy(null, document.querySelector(\"#commentBox\"), \\'300px 0px 300px 0px\\', 0.33, async (e) => {\\r\\n                await Promise.all([terkaitDataFn(), lainDataFn()])\\r\\n            });\\r\\n            \\r\\n            loadJS(\"https://al.mediagroupnetwork.com/js/ua.js\");\\r\\n        });\\r\\n    </script>\\r\\n    <script type=\"text/javascript\">\\r\\n        function closeAds() {\\r\\n            document.getElementById(\"footer_sticky\").style.display = \"none\";\\r\\n        }\\r\\n    </script>\\r\\n    \\r\\n</body>\\r\\n\\r\\n</html>'"
      ]
     },
     "execution_count": 23,
     "metadata": {},
     "output_type": "execute_result"
    }
   ],
   "source": [
    "req.content"
   ]
  },
  {
   "cell_type": "code",
   "execution_count": 12,
   "id": "6d43f78f",
   "metadata": {},
   "outputs": [],
   "source": [
    "soup = BeautifulSoup(req.content)"
   ]
  },
  {
   "cell_type": "code",
   "execution_count": 15,
   "id": "5ef89b22",
   "metadata": {},
   "outputs": [],
   "source": [
    "main_div = soup.find('div', class_=\"tmpt-desk-kon\")"
   ]
  },
  {
   "cell_type": "code",
   "execution_count": 47,
   "id": "dc48e757",
   "metadata": {},
   "outputs": [
    {
     "name": "stdout",
     "output_type": "stream",
     "text": [
      "\n",
      "Reporter: Leni Wandira | Editor: Wahyu T.Rahmawati\n",
      "\n",
      "KONTAN.CO.ID - JAKARTA. Lion Group mendukung penuh kebijakan Pemerintah melalui Kementerian Perhubungan yang menurunkan tarif tiket pesawat kelas ekonomi pada penerbangan domestik selama periode Natal dan Tahun Baru (Nataru) 2024/2025, yaitu mulai 19 Desember 2024 hingga 3 Januari 2025.  \n",
      "\n",
      "Kebijakan ini sesuai dengan arahan Presiden Prabowo Subianto yang bertujuan untuk mengurangi beban biaya perjalanan udara bagi masyarakat sekaligus mendorong perekonomian Indonesia. \n",
      "\n",
      "Lion Group menyambut baik kebijakan penurunan tarif 10% ini sebagai bagian dari upaya memperkuat konektivitas nasional, mendukung mobilitas masyarakat, serta mempercepat pembangunan ekonomi negara melalui sektor transportasi udara.  \n",
      "\n",
      "\"Dengan diterapkannya penurunan tarif di seluruh bandar udara di Indonesia, Lion Group berharap kebijakan ini dapat memberikan manfaat yang nyata bagi masyarakat, terutama yang bepergian selama periode liburan Nataru,\" kata Corporate Communication Strategic of Lion Group, Danang Mandala Prihantoro kepada Kontan.co.id, Kamis (28/11). \n",
      "\n",
      "Baca Juga: Pemerintah akan Mengguyur Stimulus Terlebih Dulu Sebelum Mengerek Tarif PPN  \n",
      "\n",
      "Kebijakan ini juga dirancang dengan memperhatikan keseimbangan antara kepentingan publik dan keberlanjutan operasional maskapai. Penurunan tarif tiket pesawat diharapkan dapat mempermudah aksesibilitas masyarakat dalam melakukan perjalanan udara dengan biaya lebih terjangkau, meningkatkan aktivitas pariwisata domestik, serta mendorong pertumbuhan ekonomi di berbagai wilayah Indonesia.  \n",
      "\n",
      "Selain itu, kebijakan ini membuka peluang yang lebih besar bagi sektor usaha kecil dan menengah (UMKM) untuk turut berpartisipasi dalam peningkatan ekonomi lokal selama masa liburan, yang memiliki permintaan tinggi untuk perjalanan keagamaan dan keluarga. \n",
      "\n",
      "Lion Group terus berkoordinasi dengan Kementerian Perhubungan, kementerian terkait lainnya, serta seluruh stakeholders penerbangan, termasuk PT Pertamina (Persero), PT Angkasa Pura Indonesia, dan AirNav Indonesia, untuk memastikan kebijakan penurunan tarif tiket pesawat dapat diimplementasikan dengan baik tanpa mengurangi kualitas layanan kepada pelanggan.  \n",
      "\n",
      "\"Sebagai bagian dari persiapan teknis, Lion Group akan mengatur ulang sistem harga tiket, mengoptimalkan efisiensi operasional, dan tetap mengutamakan keselamatan penerbangan,\" ungkapnya \n",
      "\n",
      "Baca Juga: Menanti Efek Penurunan Harga Tiket Pesawat  \n",
      "\n",
      "Sebelumnya, Pemerintah melalui Kementerian Perhubungan mengumumkan kebijakan untuk menurunkan harga tiket pesawat domestik selama periode Nataru 2024/2025. Juru Bicara Kementerian Perhubungan, Elba Damhuri, menjelaskan bahwa kebijakan ini merupakan arahan langsung dari Prabowo untuk membantu masyarakat mengurangi beban harga tiket pesawat di seluruh bandara Indonesia. \n",
      "\n",
      "Elba menjelaskan bahwa untuk merealisasikan penurunan tarif tiket pesawat tanpa pengurangan PPN, peran serta maskapai, PT Angkasa Pura Indonesia, PT Pertamina, dan AirNav Indonesia sangat dibutuhkan untuk menurunkan fuel surcharge, PJP2U, dan harga avtur di beberapa bandara.  \n",
      "\n",
      "Penurunan tarif ini akan berlaku selama 16 hari pada periode Nataru, yaitu dari 19 Desember 2024 hingga 3 Januari 2025, untuk tiket yang belum terjual. Bagi penumpang yang telah membeli tiket untuk periode tersebut, maskapai dapat memberikan insentif sesuai kebijakan masing-masing, apabila memungkinkan. \n",
      "\n",
      "Elba berharap keputusan ini akan menjadi kabar gembira bagi masyarakat yang akan melakukan perjalanan menggunakan pesawat terbang selama masa Nataru dan yakin bahwa kebijakan ini akan mendongkrak perekonomian dan pariwisata dalam negeri pada kuartal terakhir tahun 2024. \n",
      "\n",
      "Cek Berita dan Artikel yang lain di Google News\n"
     ]
    }
   ],
   "source": [
    "par = soup.find_all('p')\n",
    "for p in par:\n",
    "    print()\n",
    "    print(p.get_text())"
   ]
  },
  {
   "cell_type": "code",
   "execution_count": 16,
   "id": "69628dea",
   "metadata": {},
   "outputs": [
    {
     "name": "stdout",
     "output_type": "stream",
     "text": [
      "Reporter: Leni Wandira | Editor: Wahyu T.Rahmawati\n",
      "KONTAN.CO.ID - JAKARTA. Lion Group mendukung penuh kebijakan Pemerintah melalui Kementerian Perhubungan yang menurunkan tarif tiket pesawat kelas ekonomi pada penerbangan domestik selama periode Natal dan Tahun Baru (Nataru) 2024/2025, yaitu mulai 19 Desember 2024 hingga 3 Januari 2025.  \n",
      "Kebijakan ini sesuai dengan arahan Presiden Prabowo Subianto yang bertujuan untuk mengurangi beban biaya perjalanan udara bagi masyarakat sekaligus mendorong perekonomian Indonesia. \n",
      "Lion Group menyambut baik kebijakan penurunan tarif 10% ini sebagai bagian dari upaya memperkuat konektivitas nasional, mendukung mobilitas masyarakat, serta mempercepat pembangunan ekonomi negara melalui sektor transportasi udara.  \n",
      "\"Dengan diterapkannya penurunan tarif di seluruh bandar udara di Indonesia, Lion Group berharap kebijakan ini dapat memberikan manfaat yang nyata bagi masyarakat, terutama yang bepergian selama periode liburan Nataru,\" kata Corporate Communication Strategic of Lion Group, Danang Mandala Prihantoro kepada Kontan.co.id, Kamis (28/11). \n",
      "Baca Juga: Pemerintah akan Mengguyur Stimulus Terlebih Dulu Sebelum Mengerek Tarif PPN  \n",
      "Kebijakan ini juga dirancang dengan memperhatikan keseimbangan antara kepentingan publik dan keberlanjutan operasional maskapai. Penurunan tarif tiket pesawat diharapkan dapat mempermudah aksesibilitas masyarakat dalam melakukan perjalanan udara dengan biaya lebih terjangkau, meningkatkan aktivitas pariwisata domestik, serta mendorong pertumbuhan ekonomi di berbagai wilayah Indonesia.  \n",
      "Selain itu, kebijakan ini membuka peluang yang lebih besar bagi sektor usaha kecil dan menengah (UMKM) untuk turut berpartisipasi dalam peningkatan ekonomi lokal selama masa liburan, yang memiliki permintaan tinggi untuk perjalanan keagamaan dan keluarga. \n",
      "Lion Group terus berkoordinasi dengan Kementerian Perhubungan, kementerian terkait lainnya, serta seluruh stakeholders penerbangan, termasuk PT Pertamina (Persero), PT Angkasa Pura Indonesia, dan AirNav Indonesia, untuk memastikan kebijakan penurunan tarif tiket pesawat dapat diimplementasikan dengan baik tanpa mengurangi kualitas layanan kepada pelanggan.  \n",
      "\"Sebagai bagian dari persiapan teknis, Lion Group akan mengatur ulang sistem harga tiket, mengoptimalkan efisiensi operasional, dan tetap mengutamakan keselamatan penerbangan,\" ungkapnya \n",
      "Baca Juga: Menanti Efek Penurunan Harga Tiket Pesawat  \n",
      "Sebelumnya, Pemerintah melalui Kementerian Perhubungan mengumumkan kebijakan untuk menurunkan harga tiket pesawat domestik selama periode Nataru 2024/2025. Juru Bicara Kementerian Perhubungan, Elba Damhuri, menjelaskan bahwa kebijakan ini merupakan arahan langsung dari Prabowo untuk membantu masyarakat mengurangi beban harga tiket pesawat di seluruh bandara Indonesia. \n",
      "Elba menjelaskan bahwa untuk merealisasikan penurunan tarif tiket pesawat tanpa pengurangan PPN, peran serta maskapai, PT Angkasa Pura Indonesia, PT Pertamina, dan AirNav Indonesia sangat dibutuhkan untuk menurunkan fuel surcharge, PJP2U, dan harga avtur di beberapa bandara.  \n",
      "Penurunan tarif ini akan berlaku selama 16 hari pada periode Nataru, yaitu dari 19 Desember 2024 hingga 3 Januari 2025, untuk tiket yang belum terjual. Bagi penumpang yang telah membeli tiket untuk periode tersebut, maskapai dapat memberikan insentif sesuai kebijakan masing-masing, apabila memungkinkan. \n",
      "Elba berharap keputusan ini akan menjadi kabar gembira bagi masyarakat yang akan melakukan perjalanan menggunakan pesawat terbang selama masa Nataru dan yakin bahwa kebijakan ini akan mendongkrak perekonomian dan pariwisata dalam negeri pada kuartal terakhir tahun 2024. \n",
      "Cek Berita dan Artikel yang lain di Google News\n"
     ]
    }
   ],
   "source": [
    "if main_div:\n",
    "    paragraphs = main_div.find_all('p')\n",
    "    \n",
    "    for p in paragraphs:\n",
    "        print(p.get_text())"
   ]
  }
 ],
 "metadata": {
  "kernelspec": {
   "display_name": "base",
   "language": "python",
   "name": "python3"
  },
  "language_info": {
   "codemirror_mode": {
    "name": "ipython",
    "version": 3
   },
   "file_extension": ".py",
   "mimetype": "text/x-python",
   "name": "python",
   "nbconvert_exporter": "python",
   "pygments_lexer": "ipython3",
   "version": "3.13.5"
  }
 },
 "nbformat": 4,
 "nbformat_minor": 5
}
