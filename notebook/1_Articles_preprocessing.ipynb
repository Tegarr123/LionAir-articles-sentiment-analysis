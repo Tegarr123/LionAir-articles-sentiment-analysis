{
  "cells": [
    {
      "cell_type": "markdown",
      "id": "47bb029e",
      "metadata": {
        "id": "47bb029e"
      },
      "source": [
        "### Import libraries"
      ]
    },
    {
      "cell_type": "code",
      "execution_count": 11,
      "id": "2774abdf",
      "metadata": {
        "id": "2774abdf",
        "outputId": "b522c1fc-22a9-4052-e366-24c8b0e5f126",
        "colab": {
          "base_uri": "https://localhost:8080/"
        }
      },
      "outputs": [
        {
          "output_type": "stream",
          "name": "stdout",
          "text": [
            "Requirement already satisfied: textblob in /usr/local/lib/python3.12/dist-packages (0.19.0)\n",
            "Requirement already satisfied: wordcloud in /usr/local/lib/python3.12/dist-packages (1.9.4)\n",
            "Requirement already satisfied: Sastrawi in /usr/local/lib/python3.12/dist-packages (1.0.1)\n",
            "Requirement already satisfied: deep_translator in /usr/local/lib/python3.12/dist-packages (1.11.4)\n",
            "Requirement already satisfied: nltk>=3.9 in /usr/local/lib/python3.12/dist-packages (from textblob) (3.9.1)\n",
            "Requirement already satisfied: numpy>=1.6.1 in /usr/local/lib/python3.12/dist-packages (from wordcloud) (2.0.2)\n",
            "Requirement already satisfied: pillow in /usr/local/lib/python3.12/dist-packages (from wordcloud) (11.3.0)\n",
            "Requirement already satisfied: matplotlib in /usr/local/lib/python3.12/dist-packages (from wordcloud) (3.10.0)\n",
            "Requirement already satisfied: beautifulsoup4<5.0.0,>=4.9.1 in /usr/local/lib/python3.12/dist-packages (from deep_translator) (4.13.5)\n",
            "Requirement already satisfied: requests<3.0.0,>=2.23.0 in /usr/local/lib/python3.12/dist-packages (from deep_translator) (2.32.4)\n",
            "Requirement already satisfied: soupsieve>1.2 in /usr/local/lib/python3.12/dist-packages (from beautifulsoup4<5.0.0,>=4.9.1->deep_translator) (2.8)\n",
            "Requirement already satisfied: typing-extensions>=4.0.0 in /usr/local/lib/python3.12/dist-packages (from beautifulsoup4<5.0.0,>=4.9.1->deep_translator) (4.15.0)\n",
            "Requirement already satisfied: click in /usr/local/lib/python3.12/dist-packages (from nltk>=3.9->textblob) (8.3.0)\n",
            "Requirement already satisfied: joblib in /usr/local/lib/python3.12/dist-packages (from nltk>=3.9->textblob) (1.5.2)\n",
            "Requirement already satisfied: regex>=2021.8.3 in /usr/local/lib/python3.12/dist-packages (from nltk>=3.9->textblob) (2024.11.6)\n",
            "Requirement already satisfied: tqdm in /usr/local/lib/python3.12/dist-packages (from nltk>=3.9->textblob) (4.67.1)\n",
            "Requirement already satisfied: charset_normalizer<4,>=2 in /usr/local/lib/python3.12/dist-packages (from requests<3.0.0,>=2.23.0->deep_translator) (3.4.4)\n",
            "Requirement already satisfied: idna<4,>=2.5 in /usr/local/lib/python3.12/dist-packages (from requests<3.0.0,>=2.23.0->deep_translator) (3.11)\n",
            "Requirement already satisfied: urllib3<3,>=1.21.1 in /usr/local/lib/python3.12/dist-packages (from requests<3.0.0,>=2.23.0->deep_translator) (2.5.0)\n",
            "Requirement already satisfied: certifi>=2017.4.17 in /usr/local/lib/python3.12/dist-packages (from requests<3.0.0,>=2.23.0->deep_translator) (2025.10.5)\n",
            "Requirement already satisfied: contourpy>=1.0.1 in /usr/local/lib/python3.12/dist-packages (from matplotlib->wordcloud) (1.3.3)\n",
            "Requirement already satisfied: cycler>=0.10 in /usr/local/lib/python3.12/dist-packages (from matplotlib->wordcloud) (0.12.1)\n",
            "Requirement already satisfied: fonttools>=4.22.0 in /usr/local/lib/python3.12/dist-packages (from matplotlib->wordcloud) (4.60.1)\n",
            "Requirement already satisfied: kiwisolver>=1.3.1 in /usr/local/lib/python3.12/dist-packages (from matplotlib->wordcloud) (1.4.9)\n",
            "Requirement already satisfied: packaging>=20.0 in /usr/local/lib/python3.12/dist-packages (from matplotlib->wordcloud) (25.0)\n",
            "Requirement already satisfied: pyparsing>=2.3.1 in /usr/local/lib/python3.12/dist-packages (from matplotlib->wordcloud) (3.2.5)\n",
            "Requirement already satisfied: python-dateutil>=2.7 in /usr/local/lib/python3.12/dist-packages (from matplotlib->wordcloud) (2.9.0.post0)\n",
            "Requirement already satisfied: six>=1.5 in /usr/local/lib/python3.12/dist-packages (from python-dateutil>=2.7->matplotlib->wordcloud) (1.17.0)\n"
          ]
        }
      ],
      "source": [
        "!pip install textblob wordcloud Sastrawi deep_translator"
      ]
    },
    {
      "cell_type": "code",
      "execution_count": 12,
      "id": "593ec956",
      "metadata": {
        "id": "593ec956",
        "outputId": "624833f9-8e4e-4de6-b3ba-b1f3dfecc116",
        "colab": {
          "base_uri": "https://localhost:8080/"
        }
      },
      "outputs": [
        {
          "output_type": "stream",
          "name": "stderr",
          "text": [
            "[nltk_data] Downloading package stopwords to /root/nltk_data...\n",
            "[nltk_data]   Package stopwords is already up-to-date!\n",
            "[nltk_data] Downloading package punkt to /root/nltk_data...\n",
            "[nltk_data]   Package punkt is already up-to-date!\n",
            "[nltk_data] Downloading package punkt_tab to /root/nltk_data...\n",
            "[nltk_data]   Package punkt_tab is already up-to-date!\n"
          ]
        },
        {
          "output_type": "execute_result",
          "data": {
            "text/plain": [
              "True"
            ]
          },
          "metadata": {},
          "execution_count": 12
        }
      ],
      "source": [
        "import pandas as pd\n",
        "import re\n",
        "from textblob import TextBlob\n",
        "from wordcloud import WordCloud\n",
        "import numpy as np\n",
        "import string\n",
        "from Sastrawi.StopWordRemover.StopWordRemoverFactory import StopWordRemoverFactory\n",
        "from Sastrawi.Stemmer.StemmerFactory import StemmerFactory\n",
        "from nltk.corpus import stopwords\n",
        "from nltk.tokenize import word_tokenize\n",
        "import nltk\n",
        "from deep_translator import GoogleTranslator\n",
        "import time\n",
        "nltk.download('stopwords')\n",
        "nltk.download('punkt')\n",
        "nltk.download('punkt_tab')"
      ]
    },
    {
      "cell_type": "markdown",
      "id": "e82e63e7",
      "metadata": {
        "id": "e82e63e7"
      },
      "source": [
        "### Get the data"
      ]
    },
    {
      "cell_type": "code",
      "execution_count": 13,
      "id": "5455104c",
      "metadata": {
        "id": "5455104c",
        "outputId": "fa04a767-2b75-4754-cdf7-2d0213548b22",
        "colab": {
          "base_uri": "https://localhost:8080/",
          "height": 293
        }
      },
      "outputs": [
        {
          "output_type": "execute_result",
          "data": {
            "text/plain": [
              "      Kategori                                               Link  \\\n",
              "0      Finance  https://industri.kontan.co.id/news/pemerintah-...   \n",
              "1     Incident  https://news.okezone.com/read/2023/10/29/337/2...   \n",
              "2     Incident  https://www.cnnindonesia.com/ekonomi/202306081...   \n",
              "3     Incident  https://www.antaranews.com/video/3366141/ini-d...   \n",
              "4  Operational  https://haji.kemenag.go.id/v5/detail/tingkatka...   \n",
              "\n",
              "                                       article_title  \\\n",
              "0  Pemerintah Resmi Turunkan Harga Tiket Pesawat,...   \n",
              "1  Peristiwa 29 Oktober : Pesawat Lion Air Jatuh ...   \n",
              "2  Deret Masalah Penerbangan Lion Air Group Sepan...   \n",
              "3  Ini dugaan penyebab kecelakaan pesawat Lion Ai...   \n",
              "4  Tingkatkan Kualitas Layanan, Kemenag - Lion Ai...   \n",
              "\n",
              "                                        article_text  \n",
              "0  Reporter: Leni Wandira | Editor: Wahyu T.Rahma...  \n",
              "1  SEJUMLAH peristiwa terjadi pada 29 Oktober. Sa...  \n",
              "2  Sekretaris Umum PP Muhammadiyah Abdul Mu'ti me...  \n",
              "3  Copyright © ANTARA 2023\\nDilarang keras mengam...  \n",
              "4  21 Feb 2025 oleh Husni Anggoro | dilihat 42259...  "
            ],
            "text/html": [
              "\n",
              "  <div id=\"df-b5b66ef3-4617-4dc0-9346-f2877d8c0099\" class=\"colab-df-container\">\n",
              "    <div>\n",
              "<style scoped>\n",
              "    .dataframe tbody tr th:only-of-type {\n",
              "        vertical-align: middle;\n",
              "    }\n",
              "\n",
              "    .dataframe tbody tr th {\n",
              "        vertical-align: top;\n",
              "    }\n",
              "\n",
              "    .dataframe thead th {\n",
              "        text-align: right;\n",
              "    }\n",
              "</style>\n",
              "<table border=\"1\" class=\"dataframe\">\n",
              "  <thead>\n",
              "    <tr style=\"text-align: right;\">\n",
              "      <th></th>\n",
              "      <th>Kategori</th>\n",
              "      <th>Link</th>\n",
              "      <th>article_title</th>\n",
              "      <th>article_text</th>\n",
              "    </tr>\n",
              "  </thead>\n",
              "  <tbody>\n",
              "    <tr>\n",
              "      <th>0</th>\n",
              "      <td>Finance</td>\n",
              "      <td>https://industri.kontan.co.id/news/pemerintah-...</td>\n",
              "      <td>Pemerintah Resmi Turunkan Harga Tiket Pesawat,...</td>\n",
              "      <td>Reporter: Leni Wandira | Editor: Wahyu T.Rahma...</td>\n",
              "    </tr>\n",
              "    <tr>\n",
              "      <th>1</th>\n",
              "      <td>Incident</td>\n",
              "      <td>https://news.okezone.com/read/2023/10/29/337/2...</td>\n",
              "      <td>Peristiwa 29 Oktober : Pesawat Lion Air Jatuh ...</td>\n",
              "      <td>SEJUMLAH peristiwa terjadi pada 29 Oktober. Sa...</td>\n",
              "    </tr>\n",
              "    <tr>\n",
              "      <th>2</th>\n",
              "      <td>Incident</td>\n",
              "      <td>https://www.cnnindonesia.com/ekonomi/202306081...</td>\n",
              "      <td>Deret Masalah Penerbangan Lion Air Group Sepan...</td>\n",
              "      <td>Sekretaris Umum PP Muhammadiyah Abdul Mu'ti me...</td>\n",
              "    </tr>\n",
              "    <tr>\n",
              "      <th>3</th>\n",
              "      <td>Incident</td>\n",
              "      <td>https://www.antaranews.com/video/3366141/ini-d...</td>\n",
              "      <td>Ini dugaan penyebab kecelakaan pesawat Lion Ai...</td>\n",
              "      <td>Copyright © ANTARA 2023\\nDilarang keras mengam...</td>\n",
              "    </tr>\n",
              "    <tr>\n",
              "      <th>4</th>\n",
              "      <td>Operational</td>\n",
              "      <td>https://haji.kemenag.go.id/v5/detail/tingkatka...</td>\n",
              "      <td>Tingkatkan Kualitas Layanan, Kemenag - Lion Ai...</td>\n",
              "      <td>21 Feb 2025 oleh Husni Anggoro | dilihat 42259...</td>\n",
              "    </tr>\n",
              "  </tbody>\n",
              "</table>\n",
              "</div>\n",
              "    <div class=\"colab-df-buttons\">\n",
              "\n",
              "  <div class=\"colab-df-container\">\n",
              "    <button class=\"colab-df-convert\" onclick=\"convertToInteractive('df-b5b66ef3-4617-4dc0-9346-f2877d8c0099')\"\n",
              "            title=\"Convert this dataframe to an interactive table.\"\n",
              "            style=\"display:none;\">\n",
              "\n",
              "  <svg xmlns=\"http://www.w3.org/2000/svg\" height=\"24px\" viewBox=\"0 -960 960 960\">\n",
              "    <path d=\"M120-120v-720h720v720H120Zm60-500h600v-160H180v160Zm220 220h160v-160H400v160Zm0 220h160v-160H400v160ZM180-400h160v-160H180v160Zm440 0h160v-160H620v160ZM180-180h160v-160H180v160Zm440 0h160v-160H620v160Z\"/>\n",
              "  </svg>\n",
              "    </button>\n",
              "\n",
              "  <style>\n",
              "    .colab-df-container {\n",
              "      display:flex;\n",
              "      gap: 12px;\n",
              "    }\n",
              "\n",
              "    .colab-df-convert {\n",
              "      background-color: #E8F0FE;\n",
              "      border: none;\n",
              "      border-radius: 50%;\n",
              "      cursor: pointer;\n",
              "      display: none;\n",
              "      fill: #1967D2;\n",
              "      height: 32px;\n",
              "      padding: 0 0 0 0;\n",
              "      width: 32px;\n",
              "    }\n",
              "\n",
              "    .colab-df-convert:hover {\n",
              "      background-color: #E2EBFA;\n",
              "      box-shadow: 0px 1px 2px rgba(60, 64, 67, 0.3), 0px 1px 3px 1px rgba(60, 64, 67, 0.15);\n",
              "      fill: #174EA6;\n",
              "    }\n",
              "\n",
              "    .colab-df-buttons div {\n",
              "      margin-bottom: 4px;\n",
              "    }\n",
              "\n",
              "    [theme=dark] .colab-df-convert {\n",
              "      background-color: #3B4455;\n",
              "      fill: #D2E3FC;\n",
              "    }\n",
              "\n",
              "    [theme=dark] .colab-df-convert:hover {\n",
              "      background-color: #434B5C;\n",
              "      box-shadow: 0px 1px 3px 1px rgba(0, 0, 0, 0.15);\n",
              "      filter: drop-shadow(0px 1px 2px rgba(0, 0, 0, 0.3));\n",
              "      fill: #FFFFFF;\n",
              "    }\n",
              "  </style>\n",
              "\n",
              "    <script>\n",
              "      const buttonEl =\n",
              "        document.querySelector('#df-b5b66ef3-4617-4dc0-9346-f2877d8c0099 button.colab-df-convert');\n",
              "      buttonEl.style.display =\n",
              "        google.colab.kernel.accessAllowed ? 'block' : 'none';\n",
              "\n",
              "      async function convertToInteractive(key) {\n",
              "        const element = document.querySelector('#df-b5b66ef3-4617-4dc0-9346-f2877d8c0099');\n",
              "        const dataTable =\n",
              "          await google.colab.kernel.invokeFunction('convertToInteractive',\n",
              "                                                    [key], {});\n",
              "        if (!dataTable) return;\n",
              "\n",
              "        const docLinkHtml = 'Like what you see? Visit the ' +\n",
              "          '<a target=\"_blank\" href=https://colab.research.google.com/notebooks/data_table.ipynb>data table notebook</a>'\n",
              "          + ' to learn more about interactive tables.';\n",
              "        element.innerHTML = '';\n",
              "        dataTable['output_type'] = 'display_data';\n",
              "        await google.colab.output.renderOutput(dataTable, element);\n",
              "        const docLink = document.createElement('div');\n",
              "        docLink.innerHTML = docLinkHtml;\n",
              "        element.appendChild(docLink);\n",
              "      }\n",
              "    </script>\n",
              "  </div>\n",
              "\n",
              "\n",
              "    <div id=\"df-2139617b-629d-4c68-a39a-b177b4492953\">\n",
              "      <button class=\"colab-df-quickchart\" onclick=\"quickchart('df-2139617b-629d-4c68-a39a-b177b4492953')\"\n",
              "                title=\"Suggest charts\"\n",
              "                style=\"display:none;\">\n",
              "\n",
              "<svg xmlns=\"http://www.w3.org/2000/svg\" height=\"24px\"viewBox=\"0 0 24 24\"\n",
              "     width=\"24px\">\n",
              "    <g>\n",
              "        <path d=\"M19 3H5c-1.1 0-2 .9-2 2v14c0 1.1.9 2 2 2h14c1.1 0 2-.9 2-2V5c0-1.1-.9-2-2-2zM9 17H7v-7h2v7zm4 0h-2V7h2v10zm4 0h-2v-4h2v4z\"/>\n",
              "    </g>\n",
              "</svg>\n",
              "      </button>\n",
              "\n",
              "<style>\n",
              "  .colab-df-quickchart {\n",
              "      --bg-color: #E8F0FE;\n",
              "      --fill-color: #1967D2;\n",
              "      --hover-bg-color: #E2EBFA;\n",
              "      --hover-fill-color: #174EA6;\n",
              "      --disabled-fill-color: #AAA;\n",
              "      --disabled-bg-color: #DDD;\n",
              "  }\n",
              "\n",
              "  [theme=dark] .colab-df-quickchart {\n",
              "      --bg-color: #3B4455;\n",
              "      --fill-color: #D2E3FC;\n",
              "      --hover-bg-color: #434B5C;\n",
              "      --hover-fill-color: #FFFFFF;\n",
              "      --disabled-bg-color: #3B4455;\n",
              "      --disabled-fill-color: #666;\n",
              "  }\n",
              "\n",
              "  .colab-df-quickchart {\n",
              "    background-color: var(--bg-color);\n",
              "    border: none;\n",
              "    border-radius: 50%;\n",
              "    cursor: pointer;\n",
              "    display: none;\n",
              "    fill: var(--fill-color);\n",
              "    height: 32px;\n",
              "    padding: 0;\n",
              "    width: 32px;\n",
              "  }\n",
              "\n",
              "  .colab-df-quickchart:hover {\n",
              "    background-color: var(--hover-bg-color);\n",
              "    box-shadow: 0 1px 2px rgba(60, 64, 67, 0.3), 0 1px 3px 1px rgba(60, 64, 67, 0.15);\n",
              "    fill: var(--button-hover-fill-color);\n",
              "  }\n",
              "\n",
              "  .colab-df-quickchart-complete:disabled,\n",
              "  .colab-df-quickchart-complete:disabled:hover {\n",
              "    background-color: var(--disabled-bg-color);\n",
              "    fill: var(--disabled-fill-color);\n",
              "    box-shadow: none;\n",
              "  }\n",
              "\n",
              "  .colab-df-spinner {\n",
              "    border: 2px solid var(--fill-color);\n",
              "    border-color: transparent;\n",
              "    border-bottom-color: var(--fill-color);\n",
              "    animation:\n",
              "      spin 1s steps(1) infinite;\n",
              "  }\n",
              "\n",
              "  @keyframes spin {\n",
              "    0% {\n",
              "      border-color: transparent;\n",
              "      border-bottom-color: var(--fill-color);\n",
              "      border-left-color: var(--fill-color);\n",
              "    }\n",
              "    20% {\n",
              "      border-color: transparent;\n",
              "      border-left-color: var(--fill-color);\n",
              "      border-top-color: var(--fill-color);\n",
              "    }\n",
              "    30% {\n",
              "      border-color: transparent;\n",
              "      border-left-color: var(--fill-color);\n",
              "      border-top-color: var(--fill-color);\n",
              "      border-right-color: var(--fill-color);\n",
              "    }\n",
              "    40% {\n",
              "      border-color: transparent;\n",
              "      border-right-color: var(--fill-color);\n",
              "      border-top-color: var(--fill-color);\n",
              "    }\n",
              "    60% {\n",
              "      border-color: transparent;\n",
              "      border-right-color: var(--fill-color);\n",
              "    }\n",
              "    80% {\n",
              "      border-color: transparent;\n",
              "      border-right-color: var(--fill-color);\n",
              "      border-bottom-color: var(--fill-color);\n",
              "    }\n",
              "    90% {\n",
              "      border-color: transparent;\n",
              "      border-bottom-color: var(--fill-color);\n",
              "    }\n",
              "  }\n",
              "</style>\n",
              "\n",
              "      <script>\n",
              "        async function quickchart(key) {\n",
              "          const quickchartButtonEl =\n",
              "            document.querySelector('#' + key + ' button');\n",
              "          quickchartButtonEl.disabled = true;  // To prevent multiple clicks.\n",
              "          quickchartButtonEl.classList.add('colab-df-spinner');\n",
              "          try {\n",
              "            const charts = await google.colab.kernel.invokeFunction(\n",
              "                'suggestCharts', [key], {});\n",
              "          } catch (error) {\n",
              "            console.error('Error during call to suggestCharts:', error);\n",
              "          }\n",
              "          quickchartButtonEl.classList.remove('colab-df-spinner');\n",
              "          quickchartButtonEl.classList.add('colab-df-quickchart-complete');\n",
              "        }\n",
              "        (() => {\n",
              "          let quickchartButtonEl =\n",
              "            document.querySelector('#df-2139617b-629d-4c68-a39a-b177b4492953 button');\n",
              "          quickchartButtonEl.style.display =\n",
              "            google.colab.kernel.accessAllowed ? 'block' : 'none';\n",
              "        })();\n",
              "      </script>\n",
              "    </div>\n",
              "\n",
              "    </div>\n",
              "  </div>\n"
            ],
            "application/vnd.google.colaboratory.intrinsic+json": {
              "type": "dataframe",
              "variable_name": "df_articles",
              "summary": "{\n  \"name\": \"df_articles\",\n  \"rows\": 153,\n  \"fields\": [\n    {\n      \"column\": \"Kategori\",\n      \"properties\": {\n        \"dtype\": \"category\",\n        \"num_unique_values\": 6,\n        \"samples\": [\n          \"Finance\",\n          \"Incident\",\n          \"Local News\"\n        ],\n        \"semantic_type\": \"\",\n        \"description\": \"\"\n      }\n    },\n    {\n      \"column\": \"Link\",\n      \"properties\": {\n        \"dtype\": \"string\",\n        \"num_unique_values\": 153,\n        \"samples\": [\n          \"https://www.cnnindonesia.com/nasional/20250804153408-12-1258547/penumpang-teriak-bom-di-pesawat-lion-air-ditetapkan-jadi-tersangka\",\n          \"https://money.kompas.com/read/2025/07/01/194100026/lion-air-group-berencana-buka-penerbangan-rute-dari-dan-ke-papua-tengah\",\n          \"https://industri.kontan.co.id/news/lion-air-turunkan-harga-tiket-14-untuk-kelas-ekonomi-rute-domestik-pada-lebaran-2025\"\n        ],\n        \"semantic_type\": \"\",\n        \"description\": \"\"\n      }\n    },\n    {\n      \"column\": \"article_title\",\n      \"properties\": {\n        \"dtype\": \"string\",\n        \"num_unique_values\": 153,\n        \"samples\": [\n          \"Penumpang Teriak Bom di Pesawat Lion Air Ditetapkan Jadi Tersangka\",\n          \"Lion Air Group Berencana Buka Penerbangan Rute dari dan ke Papua Tengah\",\n          \"Lion Air Turunkan Harga Tiket 14% untuk Kelas Ekonomi Rute Domestik pada Lebaran 2025\"\n        ],\n        \"semantic_type\": \"\",\n        \"description\": \"\"\n      }\n    },\n    {\n      \"column\": \"article_text\",\n      \"properties\": {\n        \"dtype\": \"string\",\n        \"num_unique_values\": 153,\n        \"samples\": [\n          \"Polisi menetapkan status tersangka kepada pria berinisial H yang berteriak ancaman\\u00a0bom di pesawat\\u00a0Lion Air rute Jakarta-Kualanamu.\\n\\\"Hari ini ditetapkan sebagai tersangka atas sangkaan UU Nomor 1 Tahun 2009 tentang penerbangan,\\\" kata Kapolresta Bandara Soekarno-Hatta Kombes Ronald Sipayung kepada wartawan, Senin (4/8).\\nBerdasarkan hasil pemeriksaan, motif tersangka dengan mengaku membawa bom ke dalam pesawat lantaran kesal setelah menjalani perjalanan penerbangan yang cukup intens sehingga kondisi psikologis yang bersangkutan tidak stabil.\\n\\r\\n    ADVERTISEMENT\\r\\n\\n\\r\\n    SCROLL TO CONTINUE WITH CONTENT\\r\\n\\n\\\"Pengakuannya dia terbang dari Merauke-Makassar, kemudian ke Jakarta-Kualanamu,\\\" kata\\u00a0Ronald.\\nSelama proses pemeriksaan, kata Ronald, kondisi psikologis tersangka masih tidak stabil. Maka sebagai melengkapi penyelidikan pihaknya akan memanggil keluarga yang bersangkutan.\\n\\nKejadian itu berlangsung Sabtu (2/8) saat pesawat JT-308 rute Jakarta-Kualanamu proses push back atau mundur dari kapal. Seorang penumpang berinisial H marah dan berteriak ke awak kabin soal keberadaan bom.\\n\\\"Saat posisi pesawat sudah push back, salah satu pelanggan laki-laki berinisial H menyampaikan informasi adanya bom kepada awak kabin,\\\" kata Corporate Communications Strategic of Lion Air Danang Mandala Prihantoro melalui keterangan tertulis, Minggu (3/8).\\nAwak kabin sempat menginformasi ulang pernyataan itu, tetapi H tetap menyebut ada bom. Awak kabin melapor ke pilot dan pesawat kembali ke apron untuk pemeriksaan lebih lanjut\\nHasil pengecekan menunjukkan tidak ada bom dalam penerbangan tersebut. Para penumpang dipindahkan ke pesawat pengganti Boeing 737-900ER registrasi PK-LSW untuk terbang ke Kualanamu pada hari yang sama.\\nSementara itu, pria berinisial H itu diturunkan dan diserahkan kepada pihak berwenang.\\n\\\"Penumpang H diturunkan dan diserahkan kepada pihak berwenang, yaitu petugas keamanan bandar udara (aviation security), Otoritas Bandar Udara, PPNS (Penyidik Pegawai Negeri Sipil) serta kepolisian untuk investigasi dan proses lebih lanjut sesuai ketentuan hukum yang berlaku,\\\" kata Danang.\",\n          \"Lion Air Group Berencana Buka Penerbangan Rute dari dan ke Papua Tengah\\nTim Redaksi\\nJAKARTA, KOMPAS.com - Lion Air Group berencana membuka layanan penerbangan barunya untuk rute dari dan menuju Papua Tengah.\\nHal itu diungkapkan oleh President Director Lion Air Group Daniel Putut Kuncoro Adi saat RDPU Panitia Khusus DPR RI dengan maskapai penerbangan di Jakarta, Selasa (1/7/2025).\\n\\u201cKami tadi pagi sudah rapat dengan Gubernur Papua Tengah, beliau menyampaikan keinginannya untuk membuka adanya layanan penerbangan karena Papua Tengah menjadi provinsi baru dan menyampaikan agar kami bisa membuka (layanan penerbangan),\\u201d ujarnya.\\nBaca juga: Berlaku 17 Juli 2025, Cek Rincian Aturan Bagasi Lion Air\\nMeski begitu, Daniel bilang, pihaknya masih menunggu arahan dari Kementerian Perhubungan (Kemenhub) atas permintaan tersebut.\\nAdapun pada Mei 2025, Batik Air telah melakukan survei asesmen di Bandara Douw Atururem Kabupaten Nabire.\\nIni merupakan langkah awal untuk membuka potensi penerbangan komersial Batik Air di wilayah Papua Tengah.\\nSelama ini, Lion Air Group masih hanya melayani penerbangan komersial untuk Papua Barat.\\nBaca juga: Mulai Hari Ini Menuju Bandara Hanya 39 Menit Pakai Kereta \\n\\n\\n\\n\\n\\n\\n\\n\\n\\n\\n\\n\\n\\n\\nCopyright 2008 - 2025 PT. Kompas Cyber Media (Kompas Gramedia Digital Group). All Rights Reserved.\",\n          \"Reporter: Leni Wandira | Editor: Handoyo \\nKONTAN.CO.ID - JAKARTA.\\u00a0Menjelang periode mudik Lebaran 2025, Lion Group menyesuaikan harga tiket pesawat kelas ekonomi dengan penurunan hingga 14%. Kebijakan ini berlaku untuk periode penerbangan 24 Maret hingga 7 April 2025, dengan masa pembelian tiket mulai 1 Maret hingga 7 April 2025. \\u00a0 \\nCorporate Communications Strategic of Lion Group, Danang Mandala Prihantoro, menyampaikan bahwa langkah ini merupakan bentuk dukungan terhadap kebijakan pemerintah dalam memberikan kemudahan mobilitas masyarakat, khususnya saat musim mudik.\\u00a0 \\nPenyesuaian tarif ini juga sejalan dengan instruksi Presiden Prabowo Subianto yang bertujuan untuk meningkatkan kesejahteraan masyarakat dan mempermudah akses perjalanan udara. \\u00a0 \\nBaca Juga: Garuda dan Citilink Turunkan Harga Tiket 14% pada Lebaran 2025  \\n\\u201cLion Group berkomitmen untuk terus menghadirkan layanan penerbangan yang terjangkau dan nyaman bagi masyarakat. Dengan adanya penyesuaian harga tiket ini, kami berharap semakin banyak masyarakat yang bisa menikmati perjalanan mudik dengan lebih hemat dan efisien,\\u201d ujar Danang dalam keterangan resmi yang diterima KONTAN, Rabu (5/3). \\nPenurunan harga tiket ekonomi berlaku selama 15 hari untuk memastikan masyarakat dapat pulang kampung dengan biaya yang lebih hemat. Adapun, tiket dapat dipesan dengan mudah melalui aplikasi BookCabin yang dilengkapi fitur seperti check-in online dan manajemen perjalanan. \\u00a0 \\nKemudian, bagi penumpang yang tergabung dalam CabinClub dapat menikmati berbagai diskon eksklusif dan manfaat tambahan. Lalu, lion Group tetap mengutamakan kenyamanan dan keamanan penumpang dengan armada modern serta prosedur operasional yang ketat. \\u00a0 \\nLion Group juga menawarkan jaringan penerbangan yang mencakup berbagai kota tujuan utama mudik. \\u00a0 \\nBaca Juga: Diskon Tiket Pesawat 14% Periode Mudik Lebaran 2025 Berlaku Sampai kapan?  \\nKebijakan ini sejalan dengan upaya pemerintah yang secara agregat menurunkan harga tiket pesawat domestik hingga 13%-14% selama dua minggu menjelang Lebaran.\\u00a0 \\nMenteri Koordinator Bidang Infrastruktur dan Pembangunan Kewilayahan, Agus Harimurti Yudhoyono (AHY), sebelumnya menyampaikan bahwa penurunan harga tiket ini dimungkinkan berkat berbagai kebijakan, termasuk pengurangan biaya bandar udara, penyesuaian harga avtur di 37 bandara, serta insentif tambahan berupa pajak pertambahan nilai (PPN) yang sebagian ditanggung pemerintah hingga 6%. \\u00a0 \\nCek Berita dan Artikel yang lain di Google News\"\n        ],\n        \"semantic_type\": \"\",\n        \"description\": \"\"\n      }\n    }\n  ]\n}"
            }
          },
          "metadata": {},
          "execution_count": 13
        }
      ],
      "source": [
        "df_articles = pd.read_csv(\"data/articles_raw.csv\")\n",
        "df_articles.head()"
      ]
    },
    {
      "cell_type": "markdown",
      "id": "113b9e8f",
      "metadata": {
        "id": "113b9e8f"
      },
      "source": [
        "### Clear up article text"
      ]
    },
    {
      "cell_type": "code",
      "execution_count": 14,
      "id": "11f1e627",
      "metadata": {
        "id": "11f1e627"
      },
      "outputs": [],
      "source": [
        "def get_domain(text:str):\n",
        "    x = text.replace(\"https://\", \"\")\n",
        "    x = x.split(\"/\")[0]\n",
        "    x = re.sub(r\"www\\.|\\.com|\\.co\\.id|\\.id|\\.co|\\.go\\.id|\\.asia\", \"\", x)\n",
        "    x = x if len(x.split(\".\")) < 2 else x.split(\".\")[1]\n",
        "    return x\n",
        "\n",
        "\n",
        "df_articles['domain'] = df_articles['Link'].apply(get_domain)"
      ]
    },
    {
      "cell_type": "code",
      "execution_count": 15,
      "id": "40cec685",
      "metadata": {
        "id": "40cec685",
        "outputId": "81b0cf07-9d27-49d4-8512-5dac867961b0",
        "colab": {
          "base_uri": "https://localhost:8080/"
        }
      },
      "outputs": [
        {
          "output_type": "stream",
          "name": "stderr",
          "text": [
            "<>:3: SyntaxWarning: invalid escape sequence '\\s'\n",
            "<>:3: SyntaxWarning: invalid escape sequence '\\s'\n",
            "/tmp/ipython-input-2044421133.py:3: SyntaxWarning: invalid escape sequence '\\s'\n",
            "  \"Baca Juga\\s?:\",\n"
          ]
        }
      ],
      "source": [
        "def cleanup_article(text):\n",
        "    contains = [\"Cek Berita dan Artikel yang\",\n",
        "                \"Baca Juga\\s?:\",\n",
        "                \"Reporter:\",\n",
        "                \"Sumber:\",\n",
        "                \"Nyaman tanpa iklan. \",\n",
        "                \"Ringkasan ini dibantu dengan menggunakan AI\",\n",
        "                \"SCROLL TO CONTINUE WITH CONTENT\",\n",
        "                \"Sumber gambar, \",\n",
        "                \"BELUM ADA KOMENTAR\",\n",
        "                \"DOKUMENTASI GAMBAR BELUM TERSEDIA\",\n",
        "                \"Telp. \",\n",
        "                \"Hak Cipta ©\",\n",
        "                \"Cobain For You Page\",\n",
        "                \"ADVERTISEMENT\",\n",
        "                \"Comment *\",\n",
        "                \"Name *\",\n",
        "                \"Email *\",\n",
        "                \"Baca berita dengan sedikit iklan\",\n",
        "                \"All Rights Reserved\",\n",
        "                \"Sekam Api Reformasi Polri\",\n",
        "                \"Scroll ke bawah\",\n",
        "                \"Jangan lupa klik di sini\",\n",
        "                \"Gambas:Video\",\n",
        "                \"Copyright ©\",\n",
        "                \"(Lihat|Simak) juga Video:\",\n",
        "                \"Simak juga '\",\n",
        "                \"Editor : \",\n",
        "                \"News dan WA Channel\",\n",
        "                \"CLICK HERE!\",\n",
        "                \"© 2025 BBC\",\n",
        "                \"Gabung Tempo Circle\",\n",
        "                \"Home » Investasi\",\n",
        "                \"(evs)\",\n",
        "                \"Lihat Video \",\n",
        "                \"Baca:\\xa0\",\n",
        "                \"Mau notif berita penting & breaking news\",\n",
        "                \"Jelajahi info seputar haji\",\n",
        "                \"Jurnalis :\",\n",
        "                \"PODCAST REKOMENDASI TEMPO \",\n",
        "                \"© 2023 \",\n",
        "                \"Copyright RRI.co.id.\",\n",
        "                \"Komentar menjadi tanggung-jawab Anda sesuai UU ITE.\",\n",
        "                \"Penulis: \"\n",
        "                ]\n",
        "    for c in contains: text = re.sub(rf\"(\\n|\\b).*{c}.*(\\n|\\b)\", \"\\n\", text, flags=re.IGNORECASE)\n",
        "    return text\n",
        "df_articles['cleaned_article_text'] = df_articles['article_text'].apply(cleanup_article)\n",
        ""
      ]
    },
    {
      "cell_type": "code",
      "execution_count": 16,
      "id": "4024673b",
      "metadata": {
        "id": "4024673b"
      },
      "outputs": [],
      "source": [
        "def clean_space(text:str):\n",
        "    text_split = text.split(\"\\n\")\n",
        "    without_space_split = list(filter(lambda x : x.count(\" \") > 2, text_split))\n",
        "    without_space_split = list(map(lambda x : re.sub(r\"\\s+\", \" \", x), without_space_split))\n",
        "    cleaned_join = \"\\n\".join(without_space_split)\n",
        "    return cleaned_join\n",
        "df_articles['cleaned_article_text'] = df_articles['cleaned_article_text'].apply(clean_space)"
      ]
    },
    {
      "cell_type": "code",
      "execution_count": 17,
      "id": "709c8df7",
      "metadata": {
        "id": "709c8df7"
      },
      "outputs": [],
      "source": [
        "#Evaluation\n",
        "\n",
        "import random\n",
        "itg = random.randint(0, 152)\n",
        "df_articles.loc[itg, \"article_text\"].split(\"\\n\"), df_articles.loc[itg, \"cleaned_article_text\"].split(\"\\n\")\n",
        "\n",
        "with open(\"article_text.txt\", \"w\") as file:\n",
        "    file.write(df_articles.loc[itg, \"article_text\"])\n",
        "\n",
        "with open(\"cleaned_article_text.txt\", \"w\")as file:\n",
        "    file.write(df_articles.loc[itg, \"cleaned_article_text\"])"
      ]
    },
    {
      "cell_type": "markdown",
      "id": "d0fb00e0",
      "metadata": {
        "id": "d0fb00e0"
      },
      "source": [
        "### Data Preparation"
      ]
    },
    {
      "cell_type": "code",
      "execution_count": 18,
      "id": "30f3f2fa",
      "metadata": {
        "id": "30f3f2fa",
        "outputId": "88e31ac2-69bf-484d-b317-d59144824487",
        "colab": {
          "base_uri": "https://localhost:8080/"
        }
      },
      "outputs": [
        {
          "output_type": "stream",
          "name": "stdout",
          "text": [
            "      Kategori                                               Link  \\\n",
            "0      Finance  https://industri.kontan.co.id/news/pemerintah-...   \n",
            "1     Incident  https://news.okezone.com/read/2023/10/29/337/2...   \n",
            "2     Incident  https://www.cnnindonesia.com/ekonomi/202306081...   \n",
            "3     Incident  https://www.antaranews.com/video/3366141/ini-d...   \n",
            "4  Operational  https://haji.kemenag.go.id/v5/detail/tingkatka...   \n",
            "\n",
            "                                       article_title  \\\n",
            "0  Pemerintah Resmi Turunkan Harga Tiket Pesawat,...   \n",
            "1  Peristiwa 29 Oktober : Pesawat Lion Air Jatuh ...   \n",
            "2  Deret Masalah Penerbangan Lion Air Group Sepan...   \n",
            "3  Ini dugaan penyebab kecelakaan pesawat Lion Ai...   \n",
            "4  Tingkatkan Kualitas Layanan, Kemenag - Lion Ai...   \n",
            "\n",
            "                                        article_text        domain  \\\n",
            "0  Reporter: Leni Wandira | Editor: Wahyu T.Rahma...        kontan   \n",
            "1  SEJUMLAH peristiwa terjadi pada 29 Oktober. Sa...       okezone   \n",
            "2  Sekretaris Umum PP Muhammadiyah Abdul Mu'ti me...  cnnindonesia   \n",
            "3  Copyright © ANTARA 2023\\nDilarang keras mengam...    antaranews   \n",
            "4  21 Feb 2025 oleh Husni Anggoro | dilihat 42259...       kemenag   \n",
            "\n",
            "                                cleaned_article_text  \n",
            "0  KONTAN.CO.ID - JAKARTA. Lion Group mendukung p...  \n",
            "1  SEJUMLAH peristiwa terjadi pada 29 Oktober. Sa...  \n",
            "2  Sekretaris Umum PP Muhammadiyah Abdul Mu'ti me...  \n",
            "3  Dilarang keras mengambil konten, melakukan cra...  \n",
            "4  21 Feb 2025 oleh Husni Anggoro | dilihat 42259...  \n"
          ]
        }
      ],
      "source": [
        "df_articles.dropna(subset=['cleaned_article_text'], inplace=True)\n",
        "df_articles['cleaned_article_text'] = df_articles['cleaned_article_text'].astype(str)\n",
        "\n",
        "print(df_articles.head())"
      ]
    },
    {
      "cell_type": "markdown",
      "id": "1271de10",
      "metadata": {
        "id": "1271de10"
      },
      "source": [
        "### Data Cleaning"
      ]
    },
    {
      "cell_type": "code",
      "execution_count": 19,
      "id": "b3a7ab9b",
      "metadata": {
        "id": "b3a7ab9b"
      },
      "outputs": [],
      "source": [
        "def clean_text(text):\n",
        "    # Lowercase\n",
        "    text = text.lower()\n",
        "    # Hapus URL\n",
        "    text = re.sub(r'https?://\\S+|www\\.\\S+', '', text)\n",
        "    # Hapus Mention\n",
        "    text = re.sub(r'@\\w+', '', text)\n",
        "    # Hapus Angka\n",
        "    text = re.sub(r'\\d+', '', text)\n",
        "    # Hapus Tanda Baca\n",
        "    text = text.translate(str.maketrans('', '', string.punctuation))\n",
        "    return text"
      ]
    },
    {
      "cell_type": "code",
      "execution_count": 20,
      "id": "2de8e1fc",
      "metadata": {
        "id": "2de8e1fc"
      },
      "outputs": [],
      "source": [
        "df_articles['cleaned_article_text'] = df_articles['cleaned_article_text'].apply(clean_text)"
      ]
    },
    {
      "cell_type": "markdown",
      "id": "8b32dad8",
      "metadata": {
        "id": "8b32dad8"
      },
      "source": [
        "### Sentiment Polarity"
      ]
    },
    {
      "cell_type": "code",
      "execution_count": 21,
      "id": "97faab6f",
      "metadata": {
        "id": "97faab6f",
        "outputId": "18b9318b-cf27-42bf-9081-c37212a3dd72",
        "colab": {
          "base_uri": "https://localhost:8080/"
        }
      },
      "outputs": [
        {
          "output_type": "stream",
          "name": "stdout",
          "text": [
            "                                cleaned_article_text  polarity  subjectivity\n",
            "0  kontancoid  jakarta lion group mendukung penuh...  0.089297      0.302210\n",
            "1  sejumlah peristiwa terjadi pada  oktober salah...  0.163492      0.307937\n",
            "2  sekretaris umum pp muhammadiyah abdul muti men...  0.073193      0.327077\n",
            "3  dilarang keras mengambil konten melakukan craw...  0.000000      0.000000\n",
            "4   feb  oleh husni anggoro  dilihat  kali\\njakar...  0.140405      0.389091\n"
          ]
        }
      ],
      "source": [
        "def analyze_long_text_sentiment(text):\n",
        "    # Jika teksnya pendek, langsung proses\n",
        "    if len(text) < 5000:\n",
        "        try:\n",
        "            translated_text = GoogleTranslator(source='id', target='en').translate(text)\n",
        "            blob = TextBlob(translated_text)\n",
        "            return pd.Series([blob.sentiment.polarity, blob.sentiment.subjectivity])\n",
        "        except Exception as e:\n",
        "            print(f\"Terjadi error pada teks pendek: {e}\")\n",
        "            return pd.Series([None, None])\n",
        "\n",
        "    # Jika teks panjang, pecah menjadi beberapa bagian\n",
        "    else:\n",
        "        try:\n",
        "            max_chunk_size = 4500\n",
        "            chunks = [text[i:i+max_chunk_size] for i in range(0, len(text), max_chunk_size)]\n",
        "\n",
        "            translated_chunks = []\n",
        "            for i, chunk in enumerate(chunks):\n",
        "                time.sleep(0.5)\n",
        "                translated_chunks.append(\n",
        "                    GoogleTranslator(source='id', target='en').translate(chunk)\n",
        "                )\n",
        "\n",
        "            # Gabungkan kembali semua hasil terjemahan\n",
        "            full_translated_text = ' '.join(translated_chunks)\n",
        "\n",
        "            # Analisis sentimen dari teks lengkap yang sudah diterjemahkan\n",
        "            blob = TextBlob(full_translated_text)\n",
        "            return pd.Series([blob.sentiment.polarity, blob.sentiment.subjectivity])\n",
        "\n",
        "        except Exception as e:\n",
        "            print(f\"Terjadi error pada saat memproses teks panjang: {e}\")\n",
        "            return pd.Series([None, None])\n",
        "df_articles[['polarity', 'subjectivity']] = df_articles['cleaned_article_text'].apply(analyze_long_text_sentiment)\n",
        "\n",
        "print(df_articles[['cleaned_article_text', 'polarity', 'subjectivity']].head())"
      ]
    },
    {
      "cell_type": "markdown",
      "id": "2e26dd21",
      "metadata": {
        "id": "2e26dd21"
      },
      "source": [
        "### tokenize"
      ]
    },
    {
      "cell_type": "code",
      "execution_count": 22,
      "id": "276cb673",
      "metadata": {
        "id": "276cb673"
      },
      "outputs": [],
      "source": [
        "def tokenize_text(text):\n",
        "    return word_tokenize(text)"
      ]
    },
    {
      "cell_type": "code",
      "execution_count": 23,
      "id": "b6653977",
      "metadata": {
        "id": "b6653977"
      },
      "outputs": [],
      "source": [
        "df_articles['tokens'] = df_articles['cleaned_article_text'].apply(tokenize_text)"
      ]
    },
    {
      "cell_type": "markdown",
      "id": "05b1128c",
      "metadata": {
        "id": "05b1128c"
      },
      "source": [
        "### Stopwords Removal"
      ]
    },
    {
      "cell_type": "code",
      "execution_count": 24,
      "id": "d638d7fd",
      "metadata": {
        "id": "d638d7fd"
      },
      "outputs": [],
      "source": [
        "list_stopwords = stopwords.words('indonesian')\n",
        "\n",
        "def remove_stopwords(tokens, stopwords_list):\n",
        "    return [word for word in tokens if word not in stopwords_list]"
      ]
    },
    {
      "cell_type": "code",
      "execution_count": 25,
      "id": "3aa7a6e0",
      "metadata": {
        "id": "3aa7a6e0"
      },
      "outputs": [],
      "source": [
        "df_articles['tokens_no_stop'] = df_articles['tokens'].apply(lambda x: remove_stopwords(x, list_stopwords))"
      ]
    },
    {
      "cell_type": "code",
      "execution_count": 26,
      "id": "6ec60754",
      "metadata": {
        "id": "6ec60754",
        "outputId": "1c5ae650-7742-46f9-c999-be02ce7189d3",
        "colab": {
          "base_uri": "https://localhost:8080/"
        }
      },
      "outputs": [
        {
          "output_type": "stream",
          "name": "stdout",
          "text": [
            "\n",
            "DataFrame setelah cleaning, tokenisasi, dan penghapusan stopword awal:\n",
            "                                cleaned_article_text  \\\n",
            "0  kontancoid  jakarta lion group mendukung penuh...   \n",
            "1  sejumlah peristiwa terjadi pada  oktober salah...   \n",
            "2  sekretaris umum pp muhammadiyah abdul muti men...   \n",
            "3  dilarang keras mengambil konten melakukan craw...   \n",
            "4   feb  oleh husni anggoro  dilihat  kali\\njakar...   \n",
            "\n",
            "                                      tokens_no_stop  \n",
            "0  [kontancoid, jakarta, lion, group, mendukung, ...  \n",
            "1  [peristiwa, oktober, salah, satunya, jatuhnya,...  \n",
            "2  [sekretaris, pp, muhammadiyah, abdul, muti, me...  \n",
            "3  [dilarang, keras, mengambil, konten, crawling,...  \n",
            "4  [feb, husni, anggoro, kali, jakarta, phu, dire...  \n",
            "\n",
            "20 Kata Paling Umum:\n",
            "[('pesawat', 1031), ('lion', 953), ('air', 952), ('penerbangan', 601), ('penumpang', 544), ('bandara', 438), ('danang', 241), ('maskapai', 209), ('udara', 207), ('jt', 205), ('september', 180), ('rute', 160), ('indonesia', 156), ('pilot', 146), ('bagasi', 145), ('group', 135), ('terbang', 126), ('jakarta', 123), ('”', 119), ('wib', 118)]\n"
          ]
        }
      ],
      "source": [
        "# Hapus stopwords default\n",
        "print(\"\\nDataFrame setelah cleaning, tokenisasi, dan penghapusan stopword awal:\")\n",
        "print(df_articles[['cleaned_article_text', 'tokens_no_stop']].head())\n",
        "\n",
        "all_tokens = [word for tokens in df_articles['tokens_no_stop'] for word in tokens]\n",
        "\n",
        "from nltk.probability import FreqDist\n",
        "freq_dist = FreqDist(all_tokens)\n",
        "\n",
        "print(\"\\n20 Kata Paling Umum:\")\n",
        "print(freq_dist.most_common(20))"
      ]
    },
    {
      "cell_type": "markdown",
      "id": "7438be27",
      "metadata": {
        "id": "7438be27"
      },
      "source": [
        "### Stemming"
      ]
    },
    {
      "cell_type": "code",
      "execution_count": 27,
      "id": "f4ca21f4",
      "metadata": {
        "id": "f4ca21f4"
      },
      "outputs": [],
      "source": [
        "factory = StemmerFactory()\n",
        "stemmer = factory.create_stemmer()\n",
        "\n",
        "def stem_text(tokens):\n",
        "    return [stemmer.stem(word) for word in tokens]"
      ]
    },
    {
      "cell_type": "code",
      "execution_count": 28,
      "id": "a5c84ce5",
      "metadata": {
        "id": "a5c84ce5"
      },
      "outputs": [],
      "source": [
        "custom_stopwords = [\"dan\",\n",
        "                \"yang\",\n",
        "                \"di\",\n",
        "                \"untuk\",\n",
        "                \"dengan\"]\n"
      ]
    },
    {
      "cell_type": "code",
      "execution_count": 29,
      "id": "4c56f3f9",
      "metadata": {
        "id": "4c56f3f9",
        "outputId": "e4e86e3e-c05f-4a23-a174-a5f2cb039519",
        "colab": {
          "base_uri": "https://localhost:8080/"
        }
      },
      "outputs": [
        {
          "output_type": "stream",
          "name": "stdout",
          "text": [
            "\n",
            "DataFrame Hasil Akhir Setelah Custom Stopword & Stemming:\n",
            "                                cleaned_article_text  \\\n",
            "0  kontancoid  jakarta lion group mendukung penuh...   \n",
            "1  sejumlah peristiwa terjadi pada  oktober salah...   \n",
            "2  sekretaris umum pp muhammadiyah abdul muti men...   \n",
            "3  dilarang keras mengambil konten melakukan craw...   \n",
            "4   feb  oleh husni anggoro  dilihat  kali\\njakar...   \n",
            "\n",
            "                                      tokens_stemmed  \n",
            "0  [kontancoid, jakarta, lion, group, dukung, pen...  \n",
            "1  [peristiwa, oktober, salah, satu, jatuh, pesaw...  \n",
            "2  [sekretaris, pp, muhammadiyah, abdul, muti, kr...  \n",
            "3  [larang, keras, ambil, konten, crawling, indek...  \n",
            "4  [feb, husni, anggoro, kali, jakarta, phu, dire...  \n",
            "\n",
            "Kolom Teks Final (String):\n",
            "                                cleaned_article_text  \\\n",
            "0  kontancoid  jakarta lion group mendukung penuh...   \n",
            "1  sejumlah peristiwa terjadi pada  oktober salah...   \n",
            "2  sekretaris umum pp muhammadiyah abdul muti men...   \n",
            "3  dilarang keras mengambil konten melakukan craw...   \n",
            "4   feb  oleh husni anggoro  dilihat  kali\\njakar...   \n",
            "\n",
            "                                          text_final  \n",
            "0  kontancoid jakarta lion group dukung penuh bij...  \n",
            "1  peristiwa oktober salah satu jatuh pesawat lio...  \n",
            "2  sekretaris pp muhammadiyah abdul muti kritik p...  \n",
            "3  larang keras ambil konten crawling indeks otom...  \n",
            "4  feb husni anggoro kali jakarta phu direktorat ...  \n"
          ]
        }
      ],
      "source": [
        "\n",
        "final_stopwords = list_stopwords + custom_stopwords\n",
        "\n",
        "df_articles['tokens_final'] = df_articles['tokens'].apply(lambda x: remove_stopwords(x, final_stopwords))\n",
        "\n",
        "df_articles['tokens_stemmed'] = df_articles['tokens_final'].apply(stem_text)\n",
        "\n",
        "print(\"\\nDataFrame Hasil Akhir Setelah Custom Stopword & Stemming:\")\n",
        "# Tampilkan kolom-kolom relevan untuk perbandingan\n",
        "print(df_articles[['cleaned_article_text', 'tokens_stemmed']].head())\n",
        "\n",
        "# Anda juga bisa menyimpan hasil akhir sebagai string jika diperlukan\n",
        "df_articles['text_final'] = df_articles['tokens_stemmed'].apply(lambda x: ' '.join(x))\n",
        "\n",
        "print(\"\\nKolom Teks Final (String):\")\n",
        "print(df_articles[['cleaned_article_text', 'text_final']].head())"
      ]
    },
    {
      "cell_type": "markdown",
      "id": "c6e339fc",
      "metadata": {
        "id": "c6e339fc"
      },
      "source": [
        "### Sentiment Label"
      ]
    },
    {
      "cell_type": "code",
      "execution_count": 30,
      "id": "43d22442",
      "metadata": {
        "id": "43d22442",
        "outputId": "26ffdd7a-0d9f-4a64-c39b-5649cda61afe",
        "colab": {
          "base_uri": "https://localhost:8080/"
        }
      },
      "outputs": [
        {
          "output_type": "stream",
          "name": "stdout",
          "text": [
            "DataFrame dengan kolom label sentimen baru:\n",
            "                                        article_text  polarity sentiment_label\n",
            "0  Reporter: Leni Wandira | Editor: Wahyu T.Rahma...  0.089297        Positive\n",
            "1  SEJUMLAH peristiwa terjadi pada 29 Oktober. Sa...  0.163492        Positive\n",
            "2  Sekretaris Umum PP Muhammadiyah Abdul Mu'ti me...  0.073193        Positive\n",
            "3  Copyright © ANTARA 2023\\nDilarang keras mengam...  0.000000          Netral\n",
            "4  21 Feb 2025 oleh Husni Anggoro | dilihat 42259...  0.140405        Positive\n"
          ]
        },
        {
          "output_type": "stream",
          "name": "stderr",
          "text": [
            "/tmp/ipython-input-3079956587.py:9: FutureWarning: A value is trying to be set on a copy of a DataFrame or Series through chained assignment using an inplace method.\n",
            "The behavior will change in pandas 3.0. This inplace method will never work because the intermediate object on which we are setting values always behaves as a copy.\n",
            "\n",
            "For example, when doing 'df[col].method(value, inplace=True)', try using 'df.method({col: value}, inplace=True)' or df[col] = df[col].method(value) instead, to perform the operation inplace on the original object.\n",
            "\n",
            "\n",
            "  df_articles['polarity'].fillna(0, inplace=True)\n"
          ]
        }
      ],
      "source": [
        "def get_sentiment_label_from_polarity(polarity):\n",
        "    if polarity > 0.05:\n",
        "        return 'Positive'\n",
        "    elif polarity < -0.05:\n",
        "        return 'Negative'\n",
        "    else:\n",
        "        return 'Netral'\n",
        "\n",
        "df_articles['polarity'].fillna(0, inplace=True)\n",
        "df_articles['sentiment_label'] = df_articles['polarity'].apply(get_sentiment_label_from_polarity)\n",
        "\n",
        "print(\"DataFrame dengan kolom label sentimen baru:\")\n",
        "print(df_articles[['article_text', 'polarity', 'sentiment_label']].head())"
      ]
    },
    {
      "cell_type": "code",
      "execution_count": 31,
      "id": "57464136",
      "metadata": {
        "id": "57464136"
      },
      "outputs": [],
      "source": [
        "df_articles.to_csv(\"data/cleaned_article.csv\", index=False)"
      ]
    }
  ],
  "metadata": {
    "kernelspec": {
      "display_name": "base",
      "language": "python",
      "name": "python3"
    },
    "language_info": {
      "codemirror_mode": {
        "name": "ipython",
        "version": 3
      },
      "file_extension": ".py",
      "mimetype": "text/x-python",
      "name": "python",
      "nbconvert_exporter": "python",
      "pygments_lexer": "ipython3",
      "version": "3.13.5"
    },
    "colab": {
      "provenance": []
    }
  },
  "nbformat": 4,
  "nbformat_minor": 5
}