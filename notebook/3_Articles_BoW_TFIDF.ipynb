{
 "cells": [
  {
   "cell_type": "code",
   "execution_count": null,
   "id": "898a0dd1",
   "metadata": {},
   "outputs": [],
   "source": [
    "import pandas as pd"
   ]
  }
 ],
 "metadata": {
  "language_info": {
   "name": "python"
  }
 },
 "nbformat": 4,
 "nbformat_minor": 5
}
